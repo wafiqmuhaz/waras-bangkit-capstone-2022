{
  "cells": [
    {
      "cell_type": "markdown",
      "metadata": {
        "id": "zMJWi-mS0oMb"
      },
      "source": [
        "Convert Model to TFLite"
      ]
    },
    {
      "cell_type": "code",
      "execution_count": 1,
      "metadata": {
        "id": "SivKS59F1Lo6"
      },
      "outputs": [],
      "source": [
        "import tensorflow as tf\n",
        "import pathlib"
      ]
    },
    {
      "cell_type": "code",
      "execution_count": 2,
      "metadata": {
        "id": "eg5fUVoG04_b"
      },
      "outputs": [],
      "source": [
        "export_dir = 'dnn3_model/'"
      ]
    },
    {
      "cell_type": "code",
      "execution_count": 3,
      "metadata": {
        "colab": {
          "base_uri": "https://localhost:8080/"
        },
        "id": "5tf8z4ga0pRa",
        "outputId": "db779baf-8170-4a89-9781-ce1448af9987"
      },
      "outputs": [],
      "source": [
        "# Convert the model.\n",
        "converter = tf.lite.TFLiteConverter.from_saved_model(export_dir)\n",
        "tflite_model = converter.convert()"
      ]
    },
    {
      "cell_type": "code",
      "execution_count": 4,
      "metadata": {
        "colab": {
          "base_uri": "https://localhost:8080/"
        },
        "id": "ivDY1JmE1YfE",
        "outputId": "e6e5d85c-4074-430b-e284-c1e2be766825"
      },
      "outputs": [
        {
          "data": {
            "text/plain": [
              "21980"
            ]
          },
          "execution_count": 4,
          "metadata": {},
          "output_type": "execute_result"
        }
      ],
      "source": [
        "tflite_model_file = pathlib.Path('dnn2_model.tflite')\n",
        "tflite_model_file.write_bytes(tflite_model)"
      ]
    }
  ],
  "metadata": {
    "colab": {
      "name": "Convert DNN Model.ipynb",
      "provenance": []
    },
    "interpreter": {
      "hash": "152498b2d9bce54ae2199541d4ae55884c181b709c893d336525a129838ee740"
    },
    "kernelspec": {
      "display_name": "Python 3.8.8 ('base')",
      "language": "python",
      "name": "python3"
    },
    "language_info": {
      "codemirror_mode": {
        "name": "ipython",
        "version": 3
      },
      "file_extension": ".py",
      "mimetype": "text/x-python",
      "name": "python",
      "nbconvert_exporter": "python",
      "pygments_lexer": "ipython3",
      "version": "3.8.8"
    }
  },
  "nbformat": 4,
  "nbformat_minor": 0
}
