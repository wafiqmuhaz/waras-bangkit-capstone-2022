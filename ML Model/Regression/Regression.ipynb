{
 "cells": [
  {
   "cell_type": "code",
   "execution_count": 1,
   "id": "1a797027",
   "metadata": {},
   "outputs": [],
   "source": [
    "# Use seaborn for pairplot.\n",
    "!pip install -q seaborn"
   ]
  },
  {
   "cell_type": "code",
   "execution_count": 2,
   "id": "887ab5e8",
   "metadata": {},
   "outputs": [],
   "source": [
    "import matplotlib.pyplot as plt\n",
    "import numpy as np\n",
    "import pandas as pd\n",
    "import seaborn as sns\n",
    "\n",
    "# Make NumPy printouts easier to read.\n",
    "np.set_printoptions(precision=3, suppress=True)"
   ]
  },
  {
   "cell_type": "markdown",
   "id": "193aeea0",
   "metadata": {},
   "source": [
    "pip install --upgrade tensorflow"
   ]
  },
  {
   "cell_type": "code",
   "execution_count": 3,
   "id": "5ee74c92",
   "metadata": {},
   "outputs": [
    {
     "name": "stdout",
     "output_type": "stream",
     "text": [
      "2.9.0\n"
     ]
    }
   ],
   "source": [
    "import tensorflow as tf\n",
    "\n",
    "from tensorflow import keras\n",
    "from tensorflow.keras import layers\n",
    "\n",
    "print(tf.__version__)"
   ]
  },
  {
   "cell_type": "code",
   "execution_count": 4,
   "id": "6106566b",
   "metadata": {},
   "outputs": [
    {
     "name": "stdout",
     "output_type": "stream",
     "text": [
      "    Umur  Gender Tanggal_konfirmasi Tanggal_sembuh  Demam  Batuk  Kelelahan  \\\n",
      "0     44       0         2020-01-21     2020-01-29      1      0          1   \n",
      "1     39       0         2020-01-24     2020-02-03      1      0          1   \n",
      "2     30       1         2020-01-15     2020-01-15      1      1          0   \n",
      "3     66       1         2020-01-23     2020-02-19      1      1          0   \n",
      "4     40       1         2020-01-25     2020-02-08      1      1          0   \n",
      "5     33       1         2020-01-27     2020-01-27      1      0          1   \n",
      "6      1       0         2020-02-08     2020-02-17      0      0          0   \n",
      "7     30       0         2020-01-24     2020-02-12      1      1          1   \n",
      "8     31       1         2020-01-24     2020-02-12      1      1          0   \n",
      "9     29       1         2020-01-24     2020-01-28      0      0          0   \n",
      "10    55       1         2020-01-24     2020-02-05      1      0          0   \n",
      "11    73       1         2020-02-02     2020-02-21      0      0          0   \n",
      "12    42       0         2020-02-04     2020-02-20      1      1          0   \n",
      "13    28       0         2020-02-03     2020-02-22      1      0          0   \n",
      "14    49       0         2020-02-06     2020-02-20      0      1          0   \n",
      "15    16       0         2020-02-06     2020-02-20      1      1          0   \n",
      "16    29       1         2020-02-06     2020-02-22      1      0          0   \n",
      "17    55       0         2020-02-09     2020-02-18      1      0          0   \n",
      "18     0       0         2020-02-11     2020-02-20      0      1          0   \n",
      "19    50       1         2020-02-13     2020-02-26      0      0          1   \n",
      "20    61       1         2020-02-14     2020-02-26      1      0          0   \n",
      "21    55       0         2020-02-09     2020-02-18      1      0          0   \n",
      "22     0       0         2020-02-11     2020-02-20      0      1          0   \n",
      "23    50       1         2020-02-13     2020-02-26      0      0          1   \n",
      "24    61       1         2020-02-14     2020-02-26      1      0          0   \n",
      "25    29       1         2020-01-24     2020-01-28      0      0          0   \n",
      "26    72       1         2020-03-09     2020-03-27      0      1          0   \n",
      "27    34       1         2020-03-09     2020-03-15      1      0          0   \n",
      "28    46       1         2020-03-09     2020-03-15      1      1          0   \n",
      "29    70       1         2020-03-09     2020-03-19      1      1          0   \n",
      "30    41       1         2020-03-09     2020-03-24      1      0          0   \n",
      "31    46       0         2020-03-09     2020-03-26      0      0          0   \n",
      "32    51       0         2020-03-09     2020-03-18      1      1          0   \n",
      "33    30       0         2020-03-09     2020-03-24      0      1          0   \n",
      "34    31       1         2020-03-09     2020-03-17      0      0          0   \n",
      "35    34       1         2020-03-10     2020-03-17      0      0          0   \n",
      "36    39       0         2020-01-24     2020-02-03      1      0          1   \n",
      "37    73       1         2020-02-02     2020-02-21      0      0          0   \n",
      "38    42       0         2020-02-04     2020-02-20      1      1          0   \n",
      "39    28       0         2020-02-03     2020-02-22      1      0          0   \n",
      "40    44       0         2020-01-21     2020-01-29      1      0          1   \n",
      "41    49       0         2020-02-06     2020-02-20      0      1          0   \n",
      "42    16       0         2020-02-06     2020-02-20      1      1          0   \n",
      "43    30       1         2020-01-15     2020-01-15      1      1          0   \n",
      "44    66       1         2020-01-23     2020-02-19      1      1          0   \n",
      "45    55       1         2020-01-24     2020-02-05      1      0          0   \n",
      "46    40       1         2020-01-25     2020-02-08      1      1          0   \n",
      "47     1       0         2020-02-08     2020-02-17      0      0          0   \n",
      "48    32       1         2020-01-17     2020-01-24      1      1          0   \n",
      "49    32       1         2020-01-17     2020-01-24      1      1          0   \n",
      "\n",
      "    Sakit_tenggorokan  Pilek  Sesak_napas  Muntah  Lama_hari_sembuh  \n",
      "0                   0      0            0       0                 8  \n",
      "1                   0      1            0       0                10  \n",
      "2                   1      0            0       0                 0  \n",
      "3                   0      0            0       0                27  \n",
      "4                   0      0            0       0                14  \n",
      "5                   1      0            0       0                 0  \n",
      "6                   0      0            0       0                 9  \n",
      "7                   0      0            0       0                19  \n",
      "8                   0      0            0       0                19  \n",
      "9                   0      0            0       0                 4  \n",
      "10                  0      0            0       0                12  \n",
      "11                  0      0            0       0                19  \n",
      "12                  0      1            0       0                16  \n",
      "13                  1      0            0       0                19  \n",
      "14                  0      0            0       0                14  \n",
      "15                  0      0            0       0                14  \n",
      "16                  0      0            0       0                16  \n",
      "17                  0      1            0       0                 9  \n",
      "18                  0      1            0       0                 9  \n",
      "19                  0      0            0       0                13  \n",
      "20                  0      0            0       0                12  \n",
      "21                  0      1            0       0                 9  \n",
      "22                  0      1            0       0                 9  \n",
      "23                  0      0            0       0                13  \n",
      "24                  0      0            0       0                12  \n",
      "25                  0      0            0       0                 4  \n",
      "26                  0      0            0       0                18  \n",
      "27                  0      0            0       0                 6  \n",
      "28                  0      0            0       0                 6  \n",
      "29                  1      0            0       0                10  \n",
      "30                  0      0            0       0                15  \n",
      "31                  0      0            0       0                17  \n",
      "32                  0      0            0       0                 9  \n",
      "33                  1      0            0       0                15  \n",
      "34                  0      0            0       0                 8  \n",
      "35                  0      0            0       0                 7  \n",
      "36                  0      1            0       0                10  \n",
      "37                  0      0            0       0                19  \n",
      "38                  0      1            0       0                16  \n",
      "39                  1      0            0       0                19  \n",
      "40                  0      0            0       0                 8  \n",
      "41                  0      0            0       0                14  \n",
      "42                  0      0            0       0                14  \n",
      "43                  1      0            0       0                 0  \n",
      "44                  0      0            0       0                27  \n",
      "45                  0      0            0       0                12  \n",
      "46                  0      0            0       0                14  \n",
      "47                  0      0            0       0                 9  \n",
      "48                  0      0            1       0                 7  \n",
      "49                  0      0            1       0                 7  \n"
     ]
    }
   ],
   "source": [
    "dataset = pd.read_csv (r'C:\\Users\\alfen\\Downloads\\ML Model\\Data Clean.csv')\n",
    "print (dataset)"
   ]
  },
  {
   "cell_type": "code",
   "execution_count": 16,
   "id": "b8e477e3",
   "metadata": {},
   "outputs": [],
   "source": [
    "dataset.drop(['Tanggal_konfirmasi', 'Tanggal_sembuh'], axis = 1, inplace = True) "
   ]
  },
  {
   "cell_type": "code",
   "execution_count": 17,
   "id": "c6a96ace",
   "metadata": {},
   "outputs": [
    {
     "data": {
      "text/html": [
       "<div>\n",
       "<style scoped>\n",
       "    .dataframe tbody tr th:only-of-type {\n",
       "        vertical-align: middle;\n",
       "    }\n",
       "\n",
       "    .dataframe tbody tr th {\n",
       "        vertical-align: top;\n",
       "    }\n",
       "\n",
       "    .dataframe thead th {\n",
       "        text-align: right;\n",
       "    }\n",
       "</style>\n",
       "<table border=\"1\" class=\"dataframe\">\n",
       "  <thead>\n",
       "    <tr style=\"text-align: right;\">\n",
       "      <th></th>\n",
       "      <th>Umur</th>\n",
       "      <th>Gender</th>\n",
       "      <th>Demam</th>\n",
       "      <th>Batuk</th>\n",
       "      <th>Kelelahan</th>\n",
       "      <th>Sakit_tenggorokan</th>\n",
       "      <th>Pilek</th>\n",
       "      <th>Sesak_napas</th>\n",
       "      <th>Muntah</th>\n",
       "      <th>Lama_hari_sembuh</th>\n",
       "    </tr>\n",
       "  </thead>\n",
       "  <tbody>\n",
       "    <tr>\n",
       "      <th>0</th>\n",
       "      <td>44</td>\n",
       "      <td>0</td>\n",
       "      <td>1</td>\n",
       "      <td>0</td>\n",
       "      <td>1</td>\n",
       "      <td>0</td>\n",
       "      <td>0</td>\n",
       "      <td>0</td>\n",
       "      <td>0</td>\n",
       "      <td>8</td>\n",
       "    </tr>\n",
       "    <tr>\n",
       "      <th>1</th>\n",
       "      <td>39</td>\n",
       "      <td>0</td>\n",
       "      <td>1</td>\n",
       "      <td>0</td>\n",
       "      <td>1</td>\n",
       "      <td>0</td>\n",
       "      <td>1</td>\n",
       "      <td>0</td>\n",
       "      <td>0</td>\n",
       "      <td>10</td>\n",
       "    </tr>\n",
       "    <tr>\n",
       "      <th>2</th>\n",
       "      <td>30</td>\n",
       "      <td>1</td>\n",
       "      <td>1</td>\n",
       "      <td>1</td>\n",
       "      <td>0</td>\n",
       "      <td>1</td>\n",
       "      <td>0</td>\n",
       "      <td>0</td>\n",
       "      <td>0</td>\n",
       "      <td>0</td>\n",
       "    </tr>\n",
       "    <tr>\n",
       "      <th>3</th>\n",
       "      <td>66</td>\n",
       "      <td>1</td>\n",
       "      <td>1</td>\n",
       "      <td>1</td>\n",
       "      <td>0</td>\n",
       "      <td>0</td>\n",
       "      <td>0</td>\n",
       "      <td>0</td>\n",
       "      <td>0</td>\n",
       "      <td>27</td>\n",
       "    </tr>\n",
       "    <tr>\n",
       "      <th>4</th>\n",
       "      <td>40</td>\n",
       "      <td>1</td>\n",
       "      <td>1</td>\n",
       "      <td>1</td>\n",
       "      <td>0</td>\n",
       "      <td>0</td>\n",
       "      <td>0</td>\n",
       "      <td>0</td>\n",
       "      <td>0</td>\n",
       "      <td>14</td>\n",
       "    </tr>\n",
       "    <tr>\n",
       "      <th>5</th>\n",
       "      <td>33</td>\n",
       "      <td>1</td>\n",
       "      <td>1</td>\n",
       "      <td>0</td>\n",
       "      <td>1</td>\n",
       "      <td>1</td>\n",
       "      <td>0</td>\n",
       "      <td>0</td>\n",
       "      <td>0</td>\n",
       "      <td>0</td>\n",
       "    </tr>\n",
       "    <tr>\n",
       "      <th>6</th>\n",
       "      <td>1</td>\n",
       "      <td>0</td>\n",
       "      <td>0</td>\n",
       "      <td>0</td>\n",
       "      <td>0</td>\n",
       "      <td>0</td>\n",
       "      <td>0</td>\n",
       "      <td>0</td>\n",
       "      <td>0</td>\n",
       "      <td>9</td>\n",
       "    </tr>\n",
       "    <tr>\n",
       "      <th>7</th>\n",
       "      <td>30</td>\n",
       "      <td>0</td>\n",
       "      <td>1</td>\n",
       "      <td>1</td>\n",
       "      <td>1</td>\n",
       "      <td>0</td>\n",
       "      <td>0</td>\n",
       "      <td>0</td>\n",
       "      <td>0</td>\n",
       "      <td>19</td>\n",
       "    </tr>\n",
       "    <tr>\n",
       "      <th>8</th>\n",
       "      <td>31</td>\n",
       "      <td>1</td>\n",
       "      <td>1</td>\n",
       "      <td>1</td>\n",
       "      <td>0</td>\n",
       "      <td>0</td>\n",
       "      <td>0</td>\n",
       "      <td>0</td>\n",
       "      <td>0</td>\n",
       "      <td>19</td>\n",
       "    </tr>\n",
       "    <tr>\n",
       "      <th>9</th>\n",
       "      <td>29</td>\n",
       "      <td>1</td>\n",
       "      <td>0</td>\n",
       "      <td>0</td>\n",
       "      <td>0</td>\n",
       "      <td>0</td>\n",
       "      <td>0</td>\n",
       "      <td>0</td>\n",
       "      <td>0</td>\n",
       "      <td>4</td>\n",
       "    </tr>\n",
       "    <tr>\n",
       "      <th>10</th>\n",
       "      <td>55</td>\n",
       "      <td>1</td>\n",
       "      <td>1</td>\n",
       "      <td>0</td>\n",
       "      <td>0</td>\n",
       "      <td>0</td>\n",
       "      <td>0</td>\n",
       "      <td>0</td>\n",
       "      <td>0</td>\n",
       "      <td>12</td>\n",
       "    </tr>\n",
       "    <tr>\n",
       "      <th>11</th>\n",
       "      <td>73</td>\n",
       "      <td>1</td>\n",
       "      <td>0</td>\n",
       "      <td>0</td>\n",
       "      <td>0</td>\n",
       "      <td>0</td>\n",
       "      <td>0</td>\n",
       "      <td>0</td>\n",
       "      <td>0</td>\n",
       "      <td>19</td>\n",
       "    </tr>\n",
       "    <tr>\n",
       "      <th>12</th>\n",
       "      <td>42</td>\n",
       "      <td>0</td>\n",
       "      <td>1</td>\n",
       "      <td>1</td>\n",
       "      <td>0</td>\n",
       "      <td>0</td>\n",
       "      <td>1</td>\n",
       "      <td>0</td>\n",
       "      <td>0</td>\n",
       "      <td>16</td>\n",
       "    </tr>\n",
       "    <tr>\n",
       "      <th>13</th>\n",
       "      <td>28</td>\n",
       "      <td>0</td>\n",
       "      <td>1</td>\n",
       "      <td>0</td>\n",
       "      <td>0</td>\n",
       "      <td>1</td>\n",
       "      <td>0</td>\n",
       "      <td>0</td>\n",
       "      <td>0</td>\n",
       "      <td>19</td>\n",
       "    </tr>\n",
       "    <tr>\n",
       "      <th>14</th>\n",
       "      <td>49</td>\n",
       "      <td>0</td>\n",
       "      <td>0</td>\n",
       "      <td>1</td>\n",
       "      <td>0</td>\n",
       "      <td>0</td>\n",
       "      <td>0</td>\n",
       "      <td>0</td>\n",
       "      <td>0</td>\n",
       "      <td>14</td>\n",
       "    </tr>\n",
       "    <tr>\n",
       "      <th>15</th>\n",
       "      <td>16</td>\n",
       "      <td>0</td>\n",
       "      <td>1</td>\n",
       "      <td>1</td>\n",
       "      <td>0</td>\n",
       "      <td>0</td>\n",
       "      <td>0</td>\n",
       "      <td>0</td>\n",
       "      <td>0</td>\n",
       "      <td>14</td>\n",
       "    </tr>\n",
       "    <tr>\n",
       "      <th>16</th>\n",
       "      <td>29</td>\n",
       "      <td>1</td>\n",
       "      <td>1</td>\n",
       "      <td>0</td>\n",
       "      <td>0</td>\n",
       "      <td>0</td>\n",
       "      <td>0</td>\n",
       "      <td>0</td>\n",
       "      <td>0</td>\n",
       "      <td>16</td>\n",
       "    </tr>\n",
       "    <tr>\n",
       "      <th>17</th>\n",
       "      <td>55</td>\n",
       "      <td>0</td>\n",
       "      <td>1</td>\n",
       "      <td>0</td>\n",
       "      <td>0</td>\n",
       "      <td>0</td>\n",
       "      <td>1</td>\n",
       "      <td>0</td>\n",
       "      <td>0</td>\n",
       "      <td>9</td>\n",
       "    </tr>\n",
       "    <tr>\n",
       "      <th>18</th>\n",
       "      <td>0</td>\n",
       "      <td>0</td>\n",
       "      <td>0</td>\n",
       "      <td>1</td>\n",
       "      <td>0</td>\n",
       "      <td>0</td>\n",
       "      <td>1</td>\n",
       "      <td>0</td>\n",
       "      <td>0</td>\n",
       "      <td>9</td>\n",
       "    </tr>\n",
       "    <tr>\n",
       "      <th>19</th>\n",
       "      <td>50</td>\n",
       "      <td>1</td>\n",
       "      <td>0</td>\n",
       "      <td>0</td>\n",
       "      <td>1</td>\n",
       "      <td>0</td>\n",
       "      <td>0</td>\n",
       "      <td>0</td>\n",
       "      <td>0</td>\n",
       "      <td>13</td>\n",
       "    </tr>\n",
       "    <tr>\n",
       "      <th>20</th>\n",
       "      <td>61</td>\n",
       "      <td>1</td>\n",
       "      <td>1</td>\n",
       "      <td>0</td>\n",
       "      <td>0</td>\n",
       "      <td>0</td>\n",
       "      <td>0</td>\n",
       "      <td>0</td>\n",
       "      <td>0</td>\n",
       "      <td>12</td>\n",
       "    </tr>\n",
       "    <tr>\n",
       "      <th>21</th>\n",
       "      <td>55</td>\n",
       "      <td>0</td>\n",
       "      <td>1</td>\n",
       "      <td>0</td>\n",
       "      <td>0</td>\n",
       "      <td>0</td>\n",
       "      <td>1</td>\n",
       "      <td>0</td>\n",
       "      <td>0</td>\n",
       "      <td>9</td>\n",
       "    </tr>\n",
       "    <tr>\n",
       "      <th>22</th>\n",
       "      <td>0</td>\n",
       "      <td>0</td>\n",
       "      <td>0</td>\n",
       "      <td>1</td>\n",
       "      <td>0</td>\n",
       "      <td>0</td>\n",
       "      <td>1</td>\n",
       "      <td>0</td>\n",
       "      <td>0</td>\n",
       "      <td>9</td>\n",
       "    </tr>\n",
       "    <tr>\n",
       "      <th>23</th>\n",
       "      <td>50</td>\n",
       "      <td>1</td>\n",
       "      <td>0</td>\n",
       "      <td>0</td>\n",
       "      <td>1</td>\n",
       "      <td>0</td>\n",
       "      <td>0</td>\n",
       "      <td>0</td>\n",
       "      <td>0</td>\n",
       "      <td>13</td>\n",
       "    </tr>\n",
       "    <tr>\n",
       "      <th>24</th>\n",
       "      <td>61</td>\n",
       "      <td>1</td>\n",
       "      <td>1</td>\n",
       "      <td>0</td>\n",
       "      <td>0</td>\n",
       "      <td>0</td>\n",
       "      <td>0</td>\n",
       "      <td>0</td>\n",
       "      <td>0</td>\n",
       "      <td>12</td>\n",
       "    </tr>\n",
       "    <tr>\n",
       "      <th>25</th>\n",
       "      <td>29</td>\n",
       "      <td>1</td>\n",
       "      <td>0</td>\n",
       "      <td>0</td>\n",
       "      <td>0</td>\n",
       "      <td>0</td>\n",
       "      <td>0</td>\n",
       "      <td>0</td>\n",
       "      <td>0</td>\n",
       "      <td>4</td>\n",
       "    </tr>\n",
       "    <tr>\n",
       "      <th>26</th>\n",
       "      <td>72</td>\n",
       "      <td>1</td>\n",
       "      <td>0</td>\n",
       "      <td>1</td>\n",
       "      <td>0</td>\n",
       "      <td>0</td>\n",
       "      <td>0</td>\n",
       "      <td>0</td>\n",
       "      <td>0</td>\n",
       "      <td>18</td>\n",
       "    </tr>\n",
       "    <tr>\n",
       "      <th>27</th>\n",
       "      <td>34</td>\n",
       "      <td>1</td>\n",
       "      <td>1</td>\n",
       "      <td>0</td>\n",
       "      <td>0</td>\n",
       "      <td>0</td>\n",
       "      <td>0</td>\n",
       "      <td>0</td>\n",
       "      <td>0</td>\n",
       "      <td>6</td>\n",
       "    </tr>\n",
       "    <tr>\n",
       "      <th>28</th>\n",
       "      <td>46</td>\n",
       "      <td>1</td>\n",
       "      <td>1</td>\n",
       "      <td>1</td>\n",
       "      <td>0</td>\n",
       "      <td>0</td>\n",
       "      <td>0</td>\n",
       "      <td>0</td>\n",
       "      <td>0</td>\n",
       "      <td>6</td>\n",
       "    </tr>\n",
       "    <tr>\n",
       "      <th>29</th>\n",
       "      <td>70</td>\n",
       "      <td>1</td>\n",
       "      <td>1</td>\n",
       "      <td>1</td>\n",
       "      <td>0</td>\n",
       "      <td>1</td>\n",
       "      <td>0</td>\n",
       "      <td>0</td>\n",
       "      <td>0</td>\n",
       "      <td>10</td>\n",
       "    </tr>\n",
       "    <tr>\n",
       "      <th>30</th>\n",
       "      <td>41</td>\n",
       "      <td>1</td>\n",
       "      <td>1</td>\n",
       "      <td>0</td>\n",
       "      <td>0</td>\n",
       "      <td>0</td>\n",
       "      <td>0</td>\n",
       "      <td>0</td>\n",
       "      <td>0</td>\n",
       "      <td>15</td>\n",
       "    </tr>\n",
       "    <tr>\n",
       "      <th>31</th>\n",
       "      <td>46</td>\n",
       "      <td>0</td>\n",
       "      <td>0</td>\n",
       "      <td>0</td>\n",
       "      <td>0</td>\n",
       "      <td>0</td>\n",
       "      <td>0</td>\n",
       "      <td>0</td>\n",
       "      <td>0</td>\n",
       "      <td>17</td>\n",
       "    </tr>\n",
       "    <tr>\n",
       "      <th>32</th>\n",
       "      <td>51</td>\n",
       "      <td>0</td>\n",
       "      <td>1</td>\n",
       "      <td>1</td>\n",
       "      <td>0</td>\n",
       "      <td>0</td>\n",
       "      <td>0</td>\n",
       "      <td>0</td>\n",
       "      <td>0</td>\n",
       "      <td>9</td>\n",
       "    </tr>\n",
       "    <tr>\n",
       "      <th>33</th>\n",
       "      <td>30</td>\n",
       "      <td>0</td>\n",
       "      <td>0</td>\n",
       "      <td>1</td>\n",
       "      <td>0</td>\n",
       "      <td>1</td>\n",
       "      <td>0</td>\n",
       "      <td>0</td>\n",
       "      <td>0</td>\n",
       "      <td>15</td>\n",
       "    </tr>\n",
       "    <tr>\n",
       "      <th>34</th>\n",
       "      <td>31</td>\n",
       "      <td>1</td>\n",
       "      <td>0</td>\n",
       "      <td>0</td>\n",
       "      <td>0</td>\n",
       "      <td>0</td>\n",
       "      <td>0</td>\n",
       "      <td>0</td>\n",
       "      <td>0</td>\n",
       "      <td>8</td>\n",
       "    </tr>\n",
       "    <tr>\n",
       "      <th>35</th>\n",
       "      <td>34</td>\n",
       "      <td>1</td>\n",
       "      <td>0</td>\n",
       "      <td>0</td>\n",
       "      <td>0</td>\n",
       "      <td>0</td>\n",
       "      <td>0</td>\n",
       "      <td>0</td>\n",
       "      <td>0</td>\n",
       "      <td>7</td>\n",
       "    </tr>\n",
       "    <tr>\n",
       "      <th>36</th>\n",
       "      <td>39</td>\n",
       "      <td>0</td>\n",
       "      <td>1</td>\n",
       "      <td>0</td>\n",
       "      <td>1</td>\n",
       "      <td>0</td>\n",
       "      <td>1</td>\n",
       "      <td>0</td>\n",
       "      <td>0</td>\n",
       "      <td>10</td>\n",
       "    </tr>\n",
       "    <tr>\n",
       "      <th>37</th>\n",
       "      <td>73</td>\n",
       "      <td>1</td>\n",
       "      <td>0</td>\n",
       "      <td>0</td>\n",
       "      <td>0</td>\n",
       "      <td>0</td>\n",
       "      <td>0</td>\n",
       "      <td>0</td>\n",
       "      <td>0</td>\n",
       "      <td>19</td>\n",
       "    </tr>\n",
       "    <tr>\n",
       "      <th>38</th>\n",
       "      <td>42</td>\n",
       "      <td>0</td>\n",
       "      <td>1</td>\n",
       "      <td>1</td>\n",
       "      <td>0</td>\n",
       "      <td>0</td>\n",
       "      <td>1</td>\n",
       "      <td>0</td>\n",
       "      <td>0</td>\n",
       "      <td>16</td>\n",
       "    </tr>\n",
       "    <tr>\n",
       "      <th>39</th>\n",
       "      <td>28</td>\n",
       "      <td>0</td>\n",
       "      <td>1</td>\n",
       "      <td>0</td>\n",
       "      <td>0</td>\n",
       "      <td>1</td>\n",
       "      <td>0</td>\n",
       "      <td>0</td>\n",
       "      <td>0</td>\n",
       "      <td>19</td>\n",
       "    </tr>\n",
       "    <tr>\n",
       "      <th>40</th>\n",
       "      <td>44</td>\n",
       "      <td>0</td>\n",
       "      <td>1</td>\n",
       "      <td>0</td>\n",
       "      <td>1</td>\n",
       "      <td>0</td>\n",
       "      <td>0</td>\n",
       "      <td>0</td>\n",
       "      <td>0</td>\n",
       "      <td>8</td>\n",
       "    </tr>\n",
       "    <tr>\n",
       "      <th>41</th>\n",
       "      <td>49</td>\n",
       "      <td>0</td>\n",
       "      <td>0</td>\n",
       "      <td>1</td>\n",
       "      <td>0</td>\n",
       "      <td>0</td>\n",
       "      <td>0</td>\n",
       "      <td>0</td>\n",
       "      <td>0</td>\n",
       "      <td>14</td>\n",
       "    </tr>\n",
       "    <tr>\n",
       "      <th>42</th>\n",
       "      <td>16</td>\n",
       "      <td>0</td>\n",
       "      <td>1</td>\n",
       "      <td>1</td>\n",
       "      <td>0</td>\n",
       "      <td>0</td>\n",
       "      <td>0</td>\n",
       "      <td>0</td>\n",
       "      <td>0</td>\n",
       "      <td>14</td>\n",
       "    </tr>\n",
       "    <tr>\n",
       "      <th>43</th>\n",
       "      <td>30</td>\n",
       "      <td>1</td>\n",
       "      <td>1</td>\n",
       "      <td>1</td>\n",
       "      <td>0</td>\n",
       "      <td>1</td>\n",
       "      <td>0</td>\n",
       "      <td>0</td>\n",
       "      <td>0</td>\n",
       "      <td>0</td>\n",
       "    </tr>\n",
       "    <tr>\n",
       "      <th>44</th>\n",
       "      <td>66</td>\n",
       "      <td>1</td>\n",
       "      <td>1</td>\n",
       "      <td>1</td>\n",
       "      <td>0</td>\n",
       "      <td>0</td>\n",
       "      <td>0</td>\n",
       "      <td>0</td>\n",
       "      <td>0</td>\n",
       "      <td>27</td>\n",
       "    </tr>\n",
       "    <tr>\n",
       "      <th>45</th>\n",
       "      <td>55</td>\n",
       "      <td>1</td>\n",
       "      <td>1</td>\n",
       "      <td>0</td>\n",
       "      <td>0</td>\n",
       "      <td>0</td>\n",
       "      <td>0</td>\n",
       "      <td>0</td>\n",
       "      <td>0</td>\n",
       "      <td>12</td>\n",
       "    </tr>\n",
       "    <tr>\n",
       "      <th>46</th>\n",
       "      <td>40</td>\n",
       "      <td>1</td>\n",
       "      <td>1</td>\n",
       "      <td>1</td>\n",
       "      <td>0</td>\n",
       "      <td>0</td>\n",
       "      <td>0</td>\n",
       "      <td>0</td>\n",
       "      <td>0</td>\n",
       "      <td>14</td>\n",
       "    </tr>\n",
       "    <tr>\n",
       "      <th>47</th>\n",
       "      <td>1</td>\n",
       "      <td>0</td>\n",
       "      <td>0</td>\n",
       "      <td>0</td>\n",
       "      <td>0</td>\n",
       "      <td>0</td>\n",
       "      <td>0</td>\n",
       "      <td>0</td>\n",
       "      <td>0</td>\n",
       "      <td>9</td>\n",
       "    </tr>\n",
       "    <tr>\n",
       "      <th>48</th>\n",
       "      <td>32</td>\n",
       "      <td>1</td>\n",
       "      <td>1</td>\n",
       "      <td>1</td>\n",
       "      <td>0</td>\n",
       "      <td>0</td>\n",
       "      <td>0</td>\n",
       "      <td>1</td>\n",
       "      <td>0</td>\n",
       "      <td>7</td>\n",
       "    </tr>\n",
       "    <tr>\n",
       "      <th>49</th>\n",
       "      <td>32</td>\n",
       "      <td>1</td>\n",
       "      <td>1</td>\n",
       "      <td>1</td>\n",
       "      <td>0</td>\n",
       "      <td>0</td>\n",
       "      <td>0</td>\n",
       "      <td>1</td>\n",
       "      <td>0</td>\n",
       "      <td>7</td>\n",
       "    </tr>\n",
       "  </tbody>\n",
       "</table>\n",
       "</div>"
      ],
      "text/plain": [
       "    Umur  Gender  Demam  Batuk  Kelelahan  Sakit_tenggorokan  Pilek  \\\n",
       "0     44       0      1      0          1                  0      0   \n",
       "1     39       0      1      0          1                  0      1   \n",
       "2     30       1      1      1          0                  1      0   \n",
       "3     66       1      1      1          0                  0      0   \n",
       "4     40       1      1      1          0                  0      0   \n",
       "5     33       1      1      0          1                  1      0   \n",
       "6      1       0      0      0          0                  0      0   \n",
       "7     30       0      1      1          1                  0      0   \n",
       "8     31       1      1      1          0                  0      0   \n",
       "9     29       1      0      0          0                  0      0   \n",
       "10    55       1      1      0          0                  0      0   \n",
       "11    73       1      0      0          0                  0      0   \n",
       "12    42       0      1      1          0                  0      1   \n",
       "13    28       0      1      0          0                  1      0   \n",
       "14    49       0      0      1          0                  0      0   \n",
       "15    16       0      1      1          0                  0      0   \n",
       "16    29       1      1      0          0                  0      0   \n",
       "17    55       0      1      0          0                  0      1   \n",
       "18     0       0      0      1          0                  0      1   \n",
       "19    50       1      0      0          1                  0      0   \n",
       "20    61       1      1      0          0                  0      0   \n",
       "21    55       0      1      0          0                  0      1   \n",
       "22     0       0      0      1          0                  0      1   \n",
       "23    50       1      0      0          1                  0      0   \n",
       "24    61       1      1      0          0                  0      0   \n",
       "25    29       1      0      0          0                  0      0   \n",
       "26    72       1      0      1          0                  0      0   \n",
       "27    34       1      1      0          0                  0      0   \n",
       "28    46       1      1      1          0                  0      0   \n",
       "29    70       1      1      1          0                  1      0   \n",
       "30    41       1      1      0          0                  0      0   \n",
       "31    46       0      0      0          0                  0      0   \n",
       "32    51       0      1      1          0                  0      0   \n",
       "33    30       0      0      1          0                  1      0   \n",
       "34    31       1      0      0          0                  0      0   \n",
       "35    34       1      0      0          0                  0      0   \n",
       "36    39       0      1      0          1                  0      1   \n",
       "37    73       1      0      0          0                  0      0   \n",
       "38    42       0      1      1          0                  0      1   \n",
       "39    28       0      1      0          0                  1      0   \n",
       "40    44       0      1      0          1                  0      0   \n",
       "41    49       0      0      1          0                  0      0   \n",
       "42    16       0      1      1          0                  0      0   \n",
       "43    30       1      1      1          0                  1      0   \n",
       "44    66       1      1      1          0                  0      0   \n",
       "45    55       1      1      0          0                  0      0   \n",
       "46    40       1      1      1          0                  0      0   \n",
       "47     1       0      0      0          0                  0      0   \n",
       "48    32       1      1      1          0                  0      0   \n",
       "49    32       1      1      1          0                  0      0   \n",
       "\n",
       "    Sesak_napas  Muntah  Lama_hari_sembuh  \n",
       "0             0       0                 8  \n",
       "1             0       0                10  \n",
       "2             0       0                 0  \n",
       "3             0       0                27  \n",
       "4             0       0                14  \n",
       "5             0       0                 0  \n",
       "6             0       0                 9  \n",
       "7             0       0                19  \n",
       "8             0       0                19  \n",
       "9             0       0                 4  \n",
       "10            0       0                12  \n",
       "11            0       0                19  \n",
       "12            0       0                16  \n",
       "13            0       0                19  \n",
       "14            0       0                14  \n",
       "15            0       0                14  \n",
       "16            0       0                16  \n",
       "17            0       0                 9  \n",
       "18            0       0                 9  \n",
       "19            0       0                13  \n",
       "20            0       0                12  \n",
       "21            0       0                 9  \n",
       "22            0       0                 9  \n",
       "23            0       0                13  \n",
       "24            0       0                12  \n",
       "25            0       0                 4  \n",
       "26            0       0                18  \n",
       "27            0       0                 6  \n",
       "28            0       0                 6  \n",
       "29            0       0                10  \n",
       "30            0       0                15  \n",
       "31            0       0                17  \n",
       "32            0       0                 9  \n",
       "33            0       0                15  \n",
       "34            0       0                 8  \n",
       "35            0       0                 7  \n",
       "36            0       0                10  \n",
       "37            0       0                19  \n",
       "38            0       0                16  \n",
       "39            0       0                19  \n",
       "40            0       0                 8  \n",
       "41            0       0                14  \n",
       "42            0       0                14  \n",
       "43            0       0                 0  \n",
       "44            0       0                27  \n",
       "45            0       0                12  \n",
       "46            0       0                14  \n",
       "47            0       0                 9  \n",
       "48            1       0                 7  \n",
       "49            1       0                 7  "
      ]
     },
     "execution_count": 17,
     "metadata": {},
     "output_type": "execute_result"
    }
   ],
   "source": [
    "dataset"
   ]
  },
  {
   "cell_type": "code",
   "execution_count": 18,
   "id": "7b6f3d6f",
   "metadata": {},
   "outputs": [
    {
     "data": {
      "text/plain": [
       "Umur                 0\n",
       "Gender               0\n",
       "Demam                0\n",
       "Batuk                0\n",
       "Kelelahan            0\n",
       "Sakit_tenggorokan    0\n",
       "Pilek                0\n",
       "Sesak_napas          0\n",
       "Muntah               0\n",
       "Lama_hari_sembuh     0\n",
       "dtype: int64"
      ]
     },
     "execution_count": 18,
     "metadata": {},
     "output_type": "execute_result"
    }
   ],
   "source": [
    "dataset.isna().sum()"
   ]
  },
  {
   "cell_type": "code",
   "execution_count": 19,
   "id": "3e41a10b",
   "metadata": {},
   "outputs": [],
   "source": [
    "dataset = dataset.dropna()"
   ]
  },
  {
   "cell_type": "markdown",
   "id": "7932ca5b",
   "metadata": {},
   "source": [
    "Pisahkan data menjadi set pelatihan dan pengujian"
   ]
  },
  {
   "cell_type": "code",
   "execution_count": 28,
   "id": "d99fb95c",
   "metadata": {},
   "outputs": [],
   "source": [
    "train_dataset = dataset.sample(frac=0.8, random_state=0)\n",
    "test_dataset = dataset.drop(train_dataset.index)"
   ]
  },
  {
   "cell_type": "markdown",
   "id": "7d4a526a",
   "metadata": {},
   "source": [
    "Periksa datanya"
   ]
  },
  {
   "cell_type": "code",
   "execution_count": 22,
   "id": "6d8fc1e8",
   "metadata": {},
   "outputs": [
    {
     "name": "stderr",
     "output_type": "stream",
     "text": [
      "C:\\Users\\alfen\\anaconda3\\lib\\site-packages\\seaborn\\distributions.py:306: UserWarning: Dataset has 0 variance; skipping density estimate.\n",
      "  warnings.warn(msg, UserWarning)\n"
     ]
    },
    {
     "data": {
      "text/plain": [
       "<seaborn.axisgrid.PairGrid at 0x21baa1cd820>"
      ]
     },
     "execution_count": 22,
     "metadata": {},
     "output_type": "execute_result"
    },
    {
     "data": {
      "image/png": "[encoded data removed]",
      "text/plain": [
       "<Figure size 1800x1800 with 110 Axes>"
      ]
     },
     "metadata": {
      "needs_background": "light"
     },
     "output_type": "display_data"
    }
   ],
   "source": [
    "sns.pairplot(train_dataset[['Umur', 'Gender', 'Demam', 'Batuk', 'Kelelahan', 'Sakit_tenggorokan', 'Pilek', 'Sesak_napas', 'Muntah', 'Lama_hari_sembuh']], diag_kind='kde')"
   ]
  },
  {
   "cell_type": "markdown",
   "id": "6c3b1598",
   "metadata": {},
   "source": [
    "Memeriksa statistik keseluruhan"
   ]
  },
  {
   "cell_type": "code",
   "execution_count": 23,
   "id": "f096acbd",
   "metadata": {},
   "outputs": [
    {
     "data": {
      "text/html": [
       "<div>\n",
       "<style scoped>\n",
       "    .dataframe tbody tr th:only-of-type {\n",
       "        vertical-align: middle;\n",
       "    }\n",
       "\n",
       "    .dataframe tbody tr th {\n",
       "        vertical-align: top;\n",
       "    }\n",
       "\n",
       "    .dataframe thead th {\n",
       "        text-align: right;\n",
       "    }\n",
       "</style>\n",
       "<table border=\"1\" class=\"dataframe\">\n",
       "  <thead>\n",
       "    <tr style=\"text-align: right;\">\n",
       "      <th></th>\n",
       "      <th>count</th>\n",
       "      <th>mean</th>\n",
       "      <th>std</th>\n",
       "      <th>min</th>\n",
       "      <th>25%</th>\n",
       "      <th>50%</th>\n",
       "      <th>75%</th>\n",
       "      <th>max</th>\n",
       "    </tr>\n",
       "  </thead>\n",
       "  <tbody>\n",
       "    <tr>\n",
       "      <th>Umur</th>\n",
       "      <td>40.0</td>\n",
       "      <td>39.500</td>\n",
       "      <td>18.397324</td>\n",
       "      <td>0.0</td>\n",
       "      <td>30.0</td>\n",
       "      <td>39.5</td>\n",
       "      <td>50.25</td>\n",
       "      <td>73.0</td>\n",
       "    </tr>\n",
       "    <tr>\n",
       "      <th>Gender</th>\n",
       "      <td>40.0</td>\n",
       "      <td>0.575</td>\n",
       "      <td>0.500641</td>\n",
       "      <td>0.0</td>\n",
       "      <td>0.0</td>\n",
       "      <td>1.0</td>\n",
       "      <td>1.00</td>\n",
       "      <td>1.0</td>\n",
       "    </tr>\n",
       "    <tr>\n",
       "      <th>Demam</th>\n",
       "      <td>40.0</td>\n",
       "      <td>0.650</td>\n",
       "      <td>0.483046</td>\n",
       "      <td>0.0</td>\n",
       "      <td>0.0</td>\n",
       "      <td>1.0</td>\n",
       "      <td>1.00</td>\n",
       "      <td>1.0</td>\n",
       "    </tr>\n",
       "    <tr>\n",
       "      <th>Batuk</th>\n",
       "      <td>40.0</td>\n",
       "      <td>0.500</td>\n",
       "      <td>0.506370</td>\n",
       "      <td>0.0</td>\n",
       "      <td>0.0</td>\n",
       "      <td>0.5</td>\n",
       "      <td>1.00</td>\n",
       "      <td>1.0</td>\n",
       "    </tr>\n",
       "    <tr>\n",
       "      <th>Kelelahan</th>\n",
       "      <td>40.0</td>\n",
       "      <td>0.125</td>\n",
       "      <td>0.334932</td>\n",
       "      <td>0.0</td>\n",
       "      <td>0.0</td>\n",
       "      <td>0.0</td>\n",
       "      <td>0.00</td>\n",
       "      <td>1.0</td>\n",
       "    </tr>\n",
       "    <tr>\n",
       "      <th>Sakit_tenggorokan</th>\n",
       "      <td>40.0</td>\n",
       "      <td>0.150</td>\n",
       "      <td>0.361620</td>\n",
       "      <td>0.0</td>\n",
       "      <td>0.0</td>\n",
       "      <td>0.0</td>\n",
       "      <td>0.00</td>\n",
       "      <td>1.0</td>\n",
       "    </tr>\n",
       "    <tr>\n",
       "      <th>Pilek</th>\n",
       "      <td>40.0</td>\n",
       "      <td>0.150</td>\n",
       "      <td>0.361620</td>\n",
       "      <td>0.0</td>\n",
       "      <td>0.0</td>\n",
       "      <td>0.0</td>\n",
       "      <td>0.00</td>\n",
       "      <td>1.0</td>\n",
       "    </tr>\n",
       "    <tr>\n",
       "      <th>Sesak_napas</th>\n",
       "      <td>40.0</td>\n",
       "      <td>0.050</td>\n",
       "      <td>0.220721</td>\n",
       "      <td>0.0</td>\n",
       "      <td>0.0</td>\n",
       "      <td>0.0</td>\n",
       "      <td>0.00</td>\n",
       "      <td>1.0</td>\n",
       "    </tr>\n",
       "    <tr>\n",
       "      <th>Muntah</th>\n",
       "      <td>40.0</td>\n",
       "      <td>0.000</td>\n",
       "      <td>0.000000</td>\n",
       "      <td>0.0</td>\n",
       "      <td>0.0</td>\n",
       "      <td>0.0</td>\n",
       "      <td>0.00</td>\n",
       "      <td>0.0</td>\n",
       "    </tr>\n",
       "    <tr>\n",
       "      <th>Lama_hari_sembuh</th>\n",
       "      <td>40.0</td>\n",
       "      <td>11.425</td>\n",
       "      <td>5.329586</td>\n",
       "      <td>0.0</td>\n",
       "      <td>8.0</td>\n",
       "      <td>12.0</td>\n",
       "      <td>15.25</td>\n",
       "      <td>19.0</td>\n",
       "    </tr>\n",
       "  </tbody>\n",
       "</table>\n",
       "</div>"
      ],
      "text/plain": [
       "                   count    mean        std  min   25%   50%    75%   max\n",
       "Umur                40.0  39.500  18.397324  0.0  30.0  39.5  50.25  73.0\n",
       "Gender              40.0   0.575   0.500641  0.0   0.0   1.0   1.00   1.0\n",
       "Demam               40.0   0.650   0.483046  0.0   0.0   1.0   1.00   1.0\n",
       "Batuk               40.0   0.500   0.506370  0.0   0.0   0.5   1.00   1.0\n",
       "Kelelahan           40.0   0.125   0.334932  0.0   0.0   0.0   0.00   1.0\n",
       "Sakit_tenggorokan   40.0   0.150   0.361620  0.0   0.0   0.0   0.00   1.0\n",
       "Pilek               40.0   0.150   0.361620  0.0   0.0   0.0   0.00   1.0\n",
       "Sesak_napas         40.0   0.050   0.220721  0.0   0.0   0.0   0.00   1.0\n",
       "Muntah              40.0   0.000   0.000000  0.0   0.0   0.0   0.00   0.0\n",
       "Lama_hari_sembuh    40.0  11.425   5.329586  0.0   8.0  12.0  15.25  19.0"
      ]
     },
     "execution_count": 23,
     "metadata": {},
     "output_type": "execute_result"
    }
   ],
   "source": [
    "train_dataset.describe().transpose()"
   ]
  },
  {
   "cell_type": "markdown",
   "id": "010fa03b",
   "metadata": {},
   "source": [
    "Pisahkan fitur dari label"
   ]
  },
  {
   "cell_type": "code",
   "execution_count": 29,
   "id": "10434196",
   "metadata": {},
   "outputs": [],
   "source": [
    "train_features = train_dataset.copy()\n",
    "test_features = test_dataset.copy()\n",
    "\n",
    "train_labels = train_features.pop('Lama_hari_sembuh')\n",
    "test_labels = test_features.pop('Lama_hari_sembuh')"
   ]
  },
  {
   "cell_type": "markdown",
   "id": "798ce396",
   "metadata": {},
   "source": [
    "Normalisasi"
   ]
  },
  {
   "cell_type": "code",
   "execution_count": 30,
   "id": "3bd558fa",
   "metadata": {},
   "outputs": [
    {
     "data": {
      "text/html": [
       "<div>\n",
       "<style scoped>\n",
       "    .dataframe tbody tr th:only-of-type {\n",
       "        vertical-align: middle;\n",
       "    }\n",
       "\n",
       "    .dataframe tbody tr th {\n",
       "        vertical-align: top;\n",
       "    }\n",
       "\n",
       "    .dataframe thead th {\n",
       "        text-align: right;\n",
       "    }\n",
       "</style>\n",
       "<table border=\"1\" class=\"dataframe\">\n",
       "  <thead>\n",
       "    <tr style=\"text-align: right;\">\n",
       "      <th></th>\n",
       "      <th>mean</th>\n",
       "      <th>std</th>\n",
       "    </tr>\n",
       "  </thead>\n",
       "  <tbody>\n",
       "    <tr>\n",
       "      <th>Umur</th>\n",
       "      <td>39.500</td>\n",
       "      <td>18.397324</td>\n",
       "    </tr>\n",
       "    <tr>\n",
       "      <th>Gender</th>\n",
       "      <td>0.575</td>\n",
       "      <td>0.500641</td>\n",
       "    </tr>\n",
       "    <tr>\n",
       "      <th>Demam</th>\n",
       "      <td>0.650</td>\n",
       "      <td>0.483046</td>\n",
       "    </tr>\n",
       "    <tr>\n",
       "      <th>Batuk</th>\n",
       "      <td>0.500</td>\n",
       "      <td>0.506370</td>\n",
       "    </tr>\n",
       "    <tr>\n",
       "      <th>Kelelahan</th>\n",
       "      <td>0.125</td>\n",
       "      <td>0.334932</td>\n",
       "    </tr>\n",
       "    <tr>\n",
       "      <th>Sakit_tenggorokan</th>\n",
       "      <td>0.150</td>\n",
       "      <td>0.361620</td>\n",
       "    </tr>\n",
       "    <tr>\n",
       "      <th>Pilek</th>\n",
       "      <td>0.150</td>\n",
       "      <td>0.361620</td>\n",
       "    </tr>\n",
       "    <tr>\n",
       "      <th>Sesak_napas</th>\n",
       "      <td>0.050</td>\n",
       "      <td>0.220721</td>\n",
       "    </tr>\n",
       "    <tr>\n",
       "      <th>Muntah</th>\n",
       "      <td>0.000</td>\n",
       "      <td>0.000000</td>\n",
       "    </tr>\n",
       "    <tr>\n",
       "      <th>Lama_hari_sembuh</th>\n",
       "      <td>11.425</td>\n",
       "      <td>5.329586</td>\n",
       "    </tr>\n",
       "  </tbody>\n",
       "</table>\n",
       "</div>"
      ],
      "text/plain": [
       "                     mean        std\n",
       "Umur               39.500  18.397324\n",
       "Gender              0.575   0.500641\n",
       "Demam               0.650   0.483046\n",
       "Batuk               0.500   0.506370\n",
       "Kelelahan           0.125   0.334932\n",
       "Sakit_tenggorokan   0.150   0.361620\n",
       "Pilek               0.150   0.361620\n",
       "Sesak_napas         0.050   0.220721\n",
       "Muntah              0.000   0.000000\n",
       "Lama_hari_sembuh   11.425   5.329586"
      ]
     },
     "execution_count": 30,
     "metadata": {},
     "output_type": "execute_result"
    }
   ],
   "source": [
    "train_dataset.describe().transpose()[['mean', 'std']]"
   ]
  },
  {
   "cell_type": "markdown",
   "id": "9e8adb88",
   "metadata": {},
   "source": [
    "Lapisan Normalisasi"
   ]
  },
  {
   "cell_type": "code",
   "execution_count": 31,
   "id": "c2cce5f0",
   "metadata": {},
   "outputs": [],
   "source": [
    "normalizer = tf.keras.layers.Normalization(axis=-1)"
   ]
  },
  {
   "cell_type": "code",
   "execution_count": 32,
   "id": "8562e277",
   "metadata": {},
   "outputs": [],
   "source": [
    "normalizer.adapt(np.asarray(train_features))"
   ]
  },
  {
   "cell_type": "code",
   "execution_count": 33,
   "id": "9f982513",
   "metadata": {},
   "outputs": [
    {
     "name": "stdout",
     "output_type": "stream",
     "text": [
      "[[39.5    0.575  0.65   0.5    0.125  0.15   0.15   0.05   0.   ]]\n"
     ]
    }
   ],
   "source": [
    "print(normalizer.mean.numpy())"
   ]
  },
  {
   "cell_type": "code",
   "execution_count": 34,
   "id": "37d3ace3",
   "metadata": {},
   "outputs": [
    {
     "name": "stdout",
     "output_type": "stream",
     "text": [
      "First example: [[46  1  1  1  0  0  0  0  0]]\n",
      "\n",
      "Normalized: [[ 0.36  0.86  0.73  1.   -0.38 -0.42 -0.42 -0.23  0.  ]]\n"
     ]
    }
   ],
   "source": [
    "first = np.array(train_features[:1])\n",
    "\n",
    "with np.printoptions(precision=2, suppress=True):\n",
    "  print('First example:', first)\n",
    "  print()\n",
    "  print('Normalized:', normalizer(first).numpy())"
   ]
  },
  {
   "cell_type": "markdown",
   "id": "6c7ecf9b",
   "metadata": {},
   "source": [
    "Regresi linier"
   ]
  },
  {
   "cell_type": "code",
   "execution_count": 35,
   "id": "e45d3b45",
   "metadata": {},
   "outputs": [],
   "source": [
    "Umur = np.array(train_features['Umur'])\n",
    "\n",
    "Umur_normalizer = layers.Normalization(input_shape=[1,], axis=None)\n",
    "Umur_normalizer.adapt(Umur)"
   ]
  },
  {
   "cell_type": "markdown",
   "id": "c4b47766",
   "metadata": {},
   "source": [
    "Membangun model Keras Sequential"
   ]
  },
  {
   "cell_type": "code",
   "execution_count": 36,
   "id": "33eeda19",
   "metadata": {},
   "outputs": [
    {
     "name": "stdout",
     "output_type": "stream",
     "text": [
      "Model: \"sequential\"\n",
      "_________________________________________________________________\n",
      " Layer (type)                Output Shape              Param #   \n",
      "=================================================================\n",
      " normalization_3 (Normalizat  (None, 1)                3         \n",
      " ion)                                                            \n",
      "                                                                 \n",
      " dense (Dense)               (None, 1)                 2         \n",
      "                                                                 \n",
      "=================================================================\n",
      "Total params: 5\n",
      "Trainable params: 2\n",
      "Non-trainable params: 3\n",
      "_________________________________________________________________\n"
     ]
    }
   ],
   "source": [
    "Umur_model = tf.keras.Sequential([\n",
    "    Umur_normalizer,\n",
    "    layers.Dense(units=1)\n",
    "])\n",
    "\n",
    "Umur_model.summary()"
   ]
  },
  {
   "cell_type": "code",
   "execution_count": 45,
   "id": "5d450003",
   "metadata": {},
   "outputs": [
    {
     "name": "stdout",
     "output_type": "stream",
     "text": [
      "1/1 [==============================] - 0s 102ms/step\n"
     ]
    },
    {
     "data": {
      "text/plain": [
       "array([[ 1.195],\n",
       "       [ 2.048],\n",
       "       [ 1.479],\n",
       "       [ 1.29 ],\n",
       "       [ 0.689],\n",
       "       [ 0.815],\n",
       "       [ 1.068],\n",
       "       [ 1.195],\n",
       "       [-0.26 ],\n",
       "       [ 1.005]], dtype=float32)"
      ]
     },
     "execution_count": 45,
     "metadata": {},
     "output_type": "execute_result"
    }
   ],
   "source": [
    "Umur_model.predict(Umur[:10])"
   ]
  },
  {
   "cell_type": "code",
   "execution_count": 46,
   "id": "caef2f63",
   "metadata": {},
   "outputs": [],
   "source": [
    "Umur_model.compile(\n",
    "    optimizer=tf.optimizers.Adam(learning_rate=0.1),\n",
    "    loss='mean_absolute_error')"
   ]
  },
  {
   "cell_type": "code",
   "execution_count": 47,
   "id": "475fd02f",
   "metadata": {},
   "outputs": [
    {
     "name": "stdout",
     "output_type": "stream",
     "text": [
      "Wall time: 6.18 s\n"
     ]
    }
   ],
   "source": [
    "%%time\n",
    "history = Umur_model.fit(\n",
    "    train_features['Umur'],\n",
    "    train_labels,\n",
    "    epochs=100,\n",
    "    # Suppress logging.\n",
    "    verbose=0,\n",
    "    # Calculate validation results on 20% of the training data.\n",
    "    validation_split = 0.2)"
   ]
  },
  {
   "cell_type": "code",
   "execution_count": 48,
   "id": "222eab40",
   "metadata": {},
   "outputs": [
    {
     "data": {
      "text/html": [
       "<div>\n",
       "<style scoped>\n",
       "    .dataframe tbody tr th:only-of-type {\n",
       "        vertical-align: middle;\n",
       "    }\n",
       "\n",
       "    .dataframe tbody tr th {\n",
       "        vertical-align: top;\n",
       "    }\n",
       "\n",
       "    .dataframe thead th {\n",
       "        text-align: right;\n",
       "    }\n",
       "</style>\n",
       "<table border=\"1\" class=\"dataframe\">\n",
       "  <thead>\n",
       "    <tr style=\"text-align: right;\">\n",
       "      <th></th>\n",
       "      <th>loss</th>\n",
       "      <th>val_loss</th>\n",
       "      <th>epoch</th>\n",
       "    </tr>\n",
       "  </thead>\n",
       "  <tbody>\n",
       "    <tr>\n",
       "      <th>95</th>\n",
       "      <td>4.953034</td>\n",
       "      <td>3.272019</td>\n",
       "      <td>95</td>\n",
       "    </tr>\n",
       "    <tr>\n",
       "      <th>96</th>\n",
       "      <td>4.939263</td>\n",
       "      <td>3.257985</td>\n",
       "      <td>96</td>\n",
       "    </tr>\n",
       "    <tr>\n",
       "      <th>97</th>\n",
       "      <td>4.925407</td>\n",
       "      <td>3.245251</td>\n",
       "      <td>97</td>\n",
       "    </tr>\n",
       "    <tr>\n",
       "      <th>98</th>\n",
       "      <td>4.911472</td>\n",
       "      <td>3.233685</td>\n",
       "      <td>98</td>\n",
       "    </tr>\n",
       "    <tr>\n",
       "      <th>99</th>\n",
       "      <td>4.897461</td>\n",
       "      <td>3.223164</td>\n",
       "      <td>99</td>\n",
       "    </tr>\n",
       "  </tbody>\n",
       "</table>\n",
       "</div>"
      ],
      "text/plain": [
       "        loss  val_loss  epoch\n",
       "95  4.953034  3.272019     95\n",
       "96  4.939263  3.257985     96\n",
       "97  4.925407  3.245251     97\n",
       "98  4.911472  3.233685     98\n",
       "99  4.897461  3.223164     99"
      ]
     },
     "execution_count": 48,
     "metadata": {},
     "output_type": "execute_result"
    }
   ],
   "source": [
    "hist = pd.DataFrame(history.history)\n",
    "hist['epoch'] = history.epoch\n",
    "hist.tail()"
   ]
  },
  {
   "cell_type": "code",
   "execution_count": 49,
   "id": "cd1405d5",
   "metadata": {},
   "outputs": [],
   "source": [
    "def plot_loss(history):\n",
    "  plt.plot(history.history['loss'], label='loss')\n",
    "  plt.plot(history.history['val_loss'], label='val_loss')\n",
    "  plt.ylim([0, 10])\n",
    "  plt.xlabel('Epoch')\n",
    "  plt.ylabel('Error [Lama_hari_sembuh]')\n",
    "  plt.legend()\n",
    "  plt.grid(True)"
   ]
  },
  {
   "cell_type": "code",
   "execution_count": 50,
   "id": "98876b98",
   "metadata": {},
   "outputs": [
    {
     "data": {
      "image/png": "[encoded data removed]",
      "text/plain": [
       "<Figure size 432x288 with 1 Axes>"
      ]
     },
     "metadata": {
      "needs_background": "light"
     },
     "output_type": "display_data"
    }
   ],
   "source": [
    "plot_loss(history)"
   ]
  },
  {
   "cell_type": "code",
   "execution_count": 51,
   "id": "dbb055e7",
   "metadata": {},
   "outputs": [],
   "source": [
    "test_results = {}\n",
    "\n",
    "test_results['Umur_model'] = Umur_model.evaluate(\n",
    "    test_features['Umur'],\n",
    "    test_labels, verbose=0)"
   ]
  },
  {
   "cell_type": "code",
   "execution_count": 52,
   "id": "af944e36",
   "metadata": {},
   "outputs": [
    {
     "name": "stdout",
     "output_type": "stream",
     "text": [
      "8/8 [==============================] - 0s 8ms/step\n"
     ]
    }
   ],
   "source": [
    "x = tf.linspace(0.0, 250, 251)\n",
    "y = Umur_model.predict(x)"
   ]
  },
  {
   "cell_type": "code",
   "execution_count": 53,
   "id": "d2d73a57",
   "metadata": {},
   "outputs": [],
   "source": [
    "def plot_Umur(x, y):\n",
    "  plt.scatter(train_features['Umur'], train_labels, label='Data')\n",
    "  plt.plot(x, y, color='k', label='Predictions')\n",
    "  plt.xlabel('Umur')\n",
    "  plt.ylabel('Lama_hari_sembuh')\n",
    "  plt.legend()"
   ]
  },
  {
   "cell_type": "code",
   "execution_count": 54,
   "id": "a987e34f",
   "metadata": {},
   "outputs": [
    {
     "data": {
      "image/png": "[encoded data removed]",
      "text/plain": [
       "<Figure size 432x288 with 1 Axes>"
      ]
     },
     "metadata": {
      "needs_background": "light"
     },
     "output_type": "display_data"
    }
   ],
   "source": [
    "plot_Umur(x, y)"
   ]
  },
  {
   "cell_type": "markdown",
   "id": "0c0c30d9",
   "metadata": {},
   "source": [
    "Regresi linier dengan banyak input"
   ]
  },
  {
   "cell_type": "code",
   "execution_count": 55,
   "id": "1d715423",
   "metadata": {},
   "outputs": [],
   "source": [
    "linear_model = tf.keras.Sequential([\n",
    "    normalizer,\n",
    "    layers.Dense(units=1)\n",
    "])"
   ]
  },
  {
   "cell_type": "code",
   "execution_count": 56,
   "id": "c615e8d6",
   "metadata": {},
   "outputs": [
    {
     "name": "stdout",
     "output_type": "stream",
     "text": [
      "1/1 [==============================] - 0s 121ms/step\n"
     ]
    },
    {
     "data": {
      "text/plain": [
       "array([[-0.883],\n",
       "       [-0.451],\n",
       "       [-0.773],\n",
       "       [ 0.328],\n",
       "       [ 0.147],\n",
       "       [-1.422],\n",
       "       [ 2.443],\n",
       "       [ 0.067],\n",
       "       [ 0.911],\n",
       "       [-1.068]], dtype=float32)"
      ]
     },
     "execution_count": 56,
     "metadata": {},
     "output_type": "execute_result"
    }
   ],
   "source": [
    "linear_model.predict(train_features[:10])"
   ]
  },
  {
   "cell_type": "code",
   "execution_count": 57,
   "id": "e5f6e131",
   "metadata": {},
   "outputs": [
    {
     "data": {
      "text/plain": [
       "<tf.Variable 'dense_1/kernel:0' shape=(9, 1) dtype=float32, numpy=\n",
       "array([[ 0.561],\n",
       "       [-0.669],\n",
       "       [ 0.112],\n",
       "       [ 0.084],\n",
       "       [ 0.42 ],\n",
       "       [ 0.544],\n",
       "       [ 0.749],\n",
       "       [-0.117],\n",
       "       [ 0.69 ]], dtype=float32)>"
      ]
     },
     "execution_count": 57,
     "metadata": {},
     "output_type": "execute_result"
    }
   ],
   "source": [
    "linear_model.layers[1].kernel"
   ]
  },
  {
   "cell_type": "code",
   "execution_count": 58,
   "id": "f2fc0ffc",
   "metadata": {},
   "outputs": [],
   "source": [
    "linear_model.compile(\n",
    "    optimizer=tf.optimizers.Adam(learning_rate=0.1),\n",
    "    loss='mean_absolute_error')"
   ]
  },
  {
   "cell_type": "code",
   "execution_count": 59,
   "id": "32514f0c",
   "metadata": {},
   "outputs": [
    {
     "name": "stdout",
     "output_type": "stream",
     "text": [
      "Wall time: 9.03 s\n"
     ]
    }
   ],
   "source": [
    "%%time\n",
    "history = linear_model.fit(\n",
    "    train_features,\n",
    "    train_labels,\n",
    "    epochs=100,\n",
    "    # Suppress logging.\n",
    "    verbose=0,\n",
    "    # Calculate validation results on 20% of the training data.\n",
    "    validation_split = 0.2)"
   ]
  },
  {
   "cell_type": "markdown",
   "id": "b6477f59",
   "metadata": {},
   "source": [
    "Menggunakan semua input dalam model regresi ini menghasilkan kesalahan pelatihan dan validasi yang jauh lebih rendah daripada Umur, yang memiliki satu input:"
   ]
  },
  {
   "cell_type": "code",
   "execution_count": 61,
   "id": "b89c5753",
   "metadata": {},
   "outputs": [
    {
     "data": {
      "image/png": "[encoded data removed]",
      "text/plain": [
       "<Figure size 432x288 with 1 Axes>"
      ]
     },
     "metadata": {
      "needs_background": "light"
     },
     "output_type": "display_data"
    }
   ],
   "source": [
    "plot_loss(history)"
   ]
  },
  {
   "cell_type": "code",
   "execution_count": 62,
   "id": "14903625",
   "metadata": {},
   "outputs": [],
   "source": [
    "test_results['linear_model'] = linear_model.evaluate(\n",
    "    test_features, test_labels, verbose=0)"
   ]
  },
  {
   "cell_type": "markdown",
   "id": "092bd99f",
   "metadata": {},
   "source": [
    "Regresi dengan jaringan saraf dalam (DNN)"
   ]
  },
  {
   "cell_type": "code",
   "execution_count": 63,
   "id": "88a5bfbe",
   "metadata": {},
   "outputs": [],
   "source": [
    "def build_and_compile_model(norm):\n",
    "  model = keras.Sequential([\n",
    "      norm,\n",
    "      layers.Dense(64, activation='relu'),\n",
    "      layers.Dense(64, activation='relu'),\n",
    "      layers.Dense(1)\n",
    "  ])\n",
    "\n",
    "  model.compile(loss='mean_absolute_error',\n",
    "                optimizer=tf.keras.optimizers.Adam(0.001))\n",
    "  return model"
   ]
  },
  {
   "cell_type": "markdown",
   "id": "9e3606a9",
   "metadata": {},
   "source": [
    "Regresi menggunakan DNN dan satu input"
   ]
  },
  {
   "cell_type": "code",
   "execution_count": 64,
   "id": "a3ba93ad",
   "metadata": {},
   "outputs": [],
   "source": [
    "dnn_Umur_model = build_and_compile_model(Umur_normalizer)"
   ]
  },
  {
   "cell_type": "markdown",
   "id": "7f2eb1e1",
   "metadata": {},
   "source": [
    "Model ini memiliki beberapa parameter yang lebih dapat dilatih daripada model linier:"
   ]
  },
  {
   "cell_type": "code",
   "execution_count": 65,
   "id": "6261ee86",
   "metadata": {},
   "outputs": [
    {
     "name": "stdout",
     "output_type": "stream",
     "text": [
      "Model: \"sequential_2\"\n",
      "_________________________________________________________________\n",
      " Layer (type)                Output Shape              Param #   \n",
      "=================================================================\n",
      " normalization_3 (Normalizat  (None, 1)                3         \n",
      " ion)                                                            \n",
      "                                                                 \n",
      " dense_2 (Dense)             (None, 64)                128       \n",
      "                                                                 \n",
      " dense_3 (Dense)             (None, 64)                4160      \n",
      "                                                                 \n",
      " dense_4 (Dense)             (None, 1)                 65        \n",
      "                                                                 \n",
      "=================================================================\n",
      "Total params: 4,356\n",
      "Trainable params: 4,353\n",
      "Non-trainable params: 3\n",
      "_________________________________________________________________\n"
     ]
    }
   ],
   "source": [
    "dnn_Umur_model.summary()"
   ]
  },
  {
   "cell_type": "markdown",
   "id": "6bad5685",
   "metadata": {},
   "source": [
    "Melatih model dengan Keras Model.fit :"
   ]
  },
  {
   "cell_type": "code",
   "execution_count": 66,
   "id": "6ad22737",
   "metadata": {},
   "outputs": [
    {
     "name": "stdout",
     "output_type": "stream",
     "text": [
      "Wall time: 8.11 s\n"
     ]
    }
   ],
   "source": [
    "%%time\n",
    "history = dnn_Umur_model.fit(\n",
    "    train_features['Umur'],\n",
    "    train_labels,\n",
    "    validation_split=0.2,\n",
    "    verbose=0, epochs=100)"
   ]
  },
  {
   "cell_type": "markdown",
   "id": "b6e7101c",
   "metadata": {},
   "source": [
    "Model ini sedikit lebih baik daripada Umur input tunggal linier :"
   ]
  },
  {
   "cell_type": "code",
   "execution_count": 67,
   "id": "f4ca623c",
   "metadata": {},
   "outputs": [
    {
     "data": {
      "image/png": "[encoded data removed]",
      "text/plain": [
       "<Figure size 432x288 with 1 Axes>"
      ]
     },
     "metadata": {
      "needs_background": "light"
     },
     "output_type": "display_data"
    }
   ],
   "source": [
    "plot_loss(history)"
   ]
  },
  {
   "cell_type": "code",
   "execution_count": 70,
   "id": "15934d52",
   "metadata": {},
   "outputs": [
    {
     "name": "stdout",
     "output_type": "stream",
     "text": [
      "4/4 [==============================] - 0s 7ms/step\n"
     ]
    }
   ],
   "source": [
    "x = tf.linspace(0.0, 100, 101)\n",
    "y = dnn_Umur_model.predict(x)"
   ]
  },
  {
   "cell_type": "code",
   "execution_count": 71,
   "id": "ce584d42",
   "metadata": {},
   "outputs": [
    {
     "data": {
      "image/png": "[encoded data removed]",
      "text/plain": [
       "<Figure size 432x288 with 1 Axes>"
      ]
     },
     "metadata": {
      "needs_background": "light"
     },
     "output_type": "display_data"
    }
   ],
   "source": [
    "plot_Umur(x, y)"
   ]
  },
  {
   "cell_type": "code",
   "execution_count": 72,
   "id": "0f3a8dd6",
   "metadata": {},
   "outputs": [],
   "source": [
    "test_results['dnn_Umur_model'] = dnn_Umur_model.evaluate(\n",
    "    test_features['Umur'], test_labels,\n",
    "    verbose=0)"
   ]
  },
  {
   "cell_type": "markdown",
   "id": "c18195ed",
   "metadata": {},
   "source": [
    "Regresi menggunakan DNN dan beberapa input"
   ]
  },
  {
   "cell_type": "code",
   "execution_count": 73,
   "id": "b386a0ff",
   "metadata": {},
   "outputs": [
    {
     "name": "stdout",
     "output_type": "stream",
     "text": [
      "Model: \"sequential_3\"\n",
      "_________________________________________________________________\n",
      " Layer (type)                Output Shape              Param #   \n",
      "=================================================================\n",
      " normalization_2 (Normalizat  (None, 9)                19        \n",
      " ion)                                                            \n",
      "                                                                 \n",
      " dense_5 (Dense)             (None, 64)                640       \n",
      "                                                                 \n",
      " dense_6 (Dense)             (None, 64)                4160      \n",
      "                                                                 \n",
      " dense_7 (Dense)             (None, 1)                 65        \n",
      "                                                                 \n",
      "=================================================================\n",
      "Total params: 4,884\n",
      "Trainable params: 4,865\n",
      "Non-trainable params: 19\n",
      "_________________________________________________________________\n"
     ]
    }
   ],
   "source": [
    "dnn_model = build_and_compile_model(normalizer)\n",
    "dnn_model.summary()"
   ]
  },
  {
   "cell_type": "code",
   "execution_count": 74,
   "id": "d70eb7ad",
   "metadata": {},
   "outputs": [
    {
     "name": "stdout",
     "output_type": "stream",
     "text": [
      "Wall time: 8.84 s\n"
     ]
    }
   ],
   "source": [
    "%%time\n",
    "history = dnn_model.fit(\n",
    "    train_features,\n",
    "    train_labels,\n",
    "    validation_split=0.2,\n",
    "    verbose=0, epochs=100)"
   ]
  },
  {
   "cell_type": "code",
   "execution_count": 75,
   "id": "a93bd004",
   "metadata": {},
   "outputs": [
    {
     "data": {
      "image/png": "[encoded data removed]",
      "text/plain": [
       "<Figure size 432x288 with 1 Axes>"
      ]
     },
     "metadata": {
      "needs_background": "light"
     },
     "output_type": "display_data"
    }
   ],
   "source": [
    "plot_loss(history)"
   ]
  },
  {
   "cell_type": "code",
   "execution_count": 76,
   "id": "f9d84593",
   "metadata": {},
   "outputs": [],
   "source": [
    "test_results['dnn_model'] = dnn_model.evaluate(test_features, test_labels, verbose=0)"
   ]
  },
  {
   "cell_type": "markdown",
   "id": "69d32006",
   "metadata": {},
   "source": [
    "## Performance"
   ]
  },
  {
   "cell_type": "code",
   "execution_count": 79,
   "id": "7d27be3b",
   "metadata": {},
   "outputs": [
    {
     "data": {
      "text/html": [
       "<div>\n",
       "<style scoped>\n",
       "    .dataframe tbody tr th:only-of-type {\n",
       "        vertical-align: middle;\n",
       "    }\n",
       "\n",
       "    .dataframe tbody tr th {\n",
       "        vertical-align: top;\n",
       "    }\n",
       "\n",
       "    .dataframe thead th {\n",
       "        text-align: right;\n",
       "    }\n",
       "</style>\n",
       "<table border=\"1\" class=\"dataframe\">\n",
       "  <thead>\n",
       "    <tr style=\"text-align: right;\">\n",
       "      <th></th>\n",
       "      <th>Mean absolute error [Lama_hari_sembuh]</th>\n",
       "    </tr>\n",
       "  </thead>\n",
       "  <tbody>\n",
       "    <tr>\n",
       "      <th>Umur_model</th>\n",
       "      <td>6.030194</td>\n",
       "    </tr>\n",
       "    <tr>\n",
       "      <th>linear_model</th>\n",
       "      <td>8.268040</td>\n",
       "    </tr>\n",
       "    <tr>\n",
       "      <th>dnn_Umur_model</th>\n",
       "      <td>5.680704</td>\n",
       "    </tr>\n",
       "    <tr>\n",
       "      <th>dnn_model</th>\n",
       "      <td>5.281313</td>\n",
       "    </tr>\n",
       "  </tbody>\n",
       "</table>\n",
       "</div>"
      ],
      "text/plain": [
       "                Mean absolute error [Lama_hari_sembuh]\n",
       "Umur_model                                    6.030194\n",
       "linear_model                                  8.268040\n",
       "dnn_Umur_model                                5.680704\n",
       "dnn_model                                     5.281313"
      ]
     },
     "execution_count": 79,
     "metadata": {},
     "output_type": "execute_result"
    }
   ],
   "source": [
    "pd.DataFrame(test_results, index=['Mean absolute error [Lama_hari_sembuh]']).T"
   ]
  },
  {
   "cell_type": "markdown",
   "id": "8d5859b5",
   "metadata": {},
   "source": [
    "Membuat prediksi dengan dnn_model pada set pengujian menggunakan Keras Model.predict dan meninjau loss:"
   ]
  },
  {
   "cell_type": "code",
   "execution_count": 83,
   "id": "e4ee4a82",
   "metadata": {},
   "outputs": [
    {
     "name": "stdout",
     "output_type": "stream",
     "text": [
      "1/1 [==============================] - 0s 39ms/step\n"
     ]
    },
    {
     "data": {
      "image/png": "[encoded data removed]",
      "text/plain": [
       "<Figure size 432x288 with 1 Axes>"
      ]
     },
     "metadata": {
      "needs_background": "light"
     },
     "output_type": "display_data"
    }
   ],
   "source": [
    "test_predictions = dnn_model.predict(test_features).flatten()\n",
    "\n",
    "a = plt.axes(aspect='equal')\n",
    "plt.scatter(test_labels, test_predictions)\n",
    "plt.xlabel('True Values [Lama_hari_sembuh]')\n",
    "plt.ylabel('Predictions [Lama_hari_sembuh]')\n",
    "lims = [0, 50]\n",
    "plt.xlim(lims)\n",
    "plt.ylim(lims)\n",
    "_ = plt.plot(lims, lims)"
   ]
  },
  {
   "cell_type": "markdown",
   "id": "abd7fc82",
   "metadata": {},
   "source": [
    "Periksa distribusi kesalahan:"
   ]
  },
  {
   "cell_type": "code",
   "execution_count": 84,
   "id": "0a96f30a",
   "metadata": {},
   "outputs": [
    {
     "data": {
      "image/png": "[encoded data removed]",
      "text/plain": [
       "<Figure size 432x288 with 1 Axes>"
      ]
     },
     "metadata": {
      "needs_background": "light"
     },
     "output_type": "display_data"
    }
   ],
   "source": [
    "error = test_predictions - test_labels\n",
    "plt.hist(error, bins=25)\n",
    "plt.xlabel('Prediction Error [Lama_hari_sembuh]')\n",
    "_ = plt.ylabel('Count')"
   ]
  },
  {
   "cell_type": "code",
   "execution_count": 85,
   "id": "ed71a5c9",
   "metadata": {},
   "outputs": [
    {
     "name": "stdout",
     "output_type": "stream",
     "text": [
      "INFO:tensorflow:Assets written to: dnn_model\\assets\n"
     ]
    }
   ],
   "source": [
    "dnn_model.save('dnn_model')"
   ]
  },
  {
   "cell_type": "code",
   "execution_count": 86,
   "id": "1751ac5f",
   "metadata": {},
   "outputs": [],
   "source": [
    "reloaded = tf.keras.models.load_model('dnn_model')\n",
    "\n",
    "test_results['reloaded'] = reloaded.evaluate(\n",
    "    test_features, test_labels, verbose=0)"
   ]
  },
  {
   "cell_type": "code",
   "execution_count": 87,
   "id": "2471e318",
   "metadata": {},
   "outputs": [
    {
     "data": {
      "text/html": [
       "<div>\n",
       "<style scoped>\n",
       "    .dataframe tbody tr th:only-of-type {\n",
       "        vertical-align: middle;\n",
       "    }\n",
       "\n",
       "    .dataframe tbody tr th {\n",
       "        vertical-align: top;\n",
       "    }\n",
       "\n",
       "    .dataframe thead th {\n",
       "        text-align: right;\n",
       "    }\n",
       "</style>\n",
       "<table border=\"1\" class=\"dataframe\">\n",
       "  <thead>\n",
       "    <tr style=\"text-align: right;\">\n",
       "      <th></th>\n",
       "      <th>Mean absolute error [Lama_hari_sembuh]</th>\n",
       "    </tr>\n",
       "  </thead>\n",
       "  <tbody>\n",
       "    <tr>\n",
       "      <th>Umur_model</th>\n",
       "      <td>6.030194</td>\n",
       "    </tr>\n",
       "    <tr>\n",
       "      <th>linear_model</th>\n",
       "      <td>8.268040</td>\n",
       "    </tr>\n",
       "    <tr>\n",
       "      <th>dnn_Umur_model</th>\n",
       "      <td>5.680704</td>\n",
       "    </tr>\n",
       "    <tr>\n",
       "      <th>dnn_model</th>\n",
       "      <td>5.281313</td>\n",
       "    </tr>\n",
       "    <tr>\n",
       "      <th>reloaded</th>\n",
       "      <td>5.281313</td>\n",
       "    </tr>\n",
       "  </tbody>\n",
       "</table>\n",
       "</div>"
      ],
      "text/plain": [
       "                Mean absolute error [Lama_hari_sembuh]\n",
       "Umur_model                                    6.030194\n",
       "linear_model                                  8.268040\n",
       "dnn_Umur_model                                5.680704\n",
       "dnn_model                                     5.281313\n",
       "reloaded                                      5.281313"
      ]
     },
     "execution_count": 87,
     "metadata": {},
     "output_type": "execute_result"
    }
   ],
   "source": [
    "pd.DataFrame(test_results, index=['Mean absolute error [Lama_hari_sembuh]']).T"
   ]
  },
  {
   "cell_type": "code",
   "execution_count": 111,
   "id": "3f4ca693",
   "metadata": {},
   "outputs": [
    {
     "name": "stdout",
     "output_type": "stream",
     "text": [
      "1/1 [==============================] - 0s 48ms/step\n",
      "Lama hari sembuh:  [[8.953]]\n",
      "Lama hari sembuh:  8\n"
     ]
    }
   ],
   "source": [
    "#prediction\n",
    "#give values for 9 columns to predict\n",
    "\n",
    "Lama_hari_sembuh = dnn_model.predict([15,0,1,1,0,1,1,0,0])\n",
    "print (\"Lama hari sembuh: \",Lama_hari_sembuh)\n",
    "print (\"Lama hari sembuh: \",int(Lama_hari_sembuh))"
   ]
  }
 ],
 "metadata": {
  "kernelspec": {
   "display_name": "Python 3",
   "language": "python",
   "name": "python3"
  },
  "language_info": {
   "codemirror_mode": {
    "name": "ipython",
    "version": 3
   },
   "file_extension": ".py",
   "mimetype": "text/x-python",
   "name": "python",
   "nbconvert_exporter": "python",
   "pygments_lexer": "ipython3",
   "version": "3.8.8"
  }
 },
 "nbformat": 4,
 "nbformat_minor": 5
}
