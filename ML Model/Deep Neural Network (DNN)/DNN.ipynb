{
 "cells": [
  {
   "cell_type": "markdown",
   "id": "c3f7930a",
   "metadata": {},
   "source": [
    "# WARAS APP - BANGKIT ACADEMY 2022"
   ]
  },
  {
   "cell_type": "markdown",
   "id": "0a32da0a",
   "metadata": {},
   "source": [
    "## Machine Learning Model - Deep Neural Network"
   ]
  },
  {
   "cell_type": "markdown",
   "id": "95c1675e",
   "metadata": {},
   "source": [
    "### Import libraries"
   ]
  },
  {
   "cell_type": "code",
   "execution_count": 56,
   "id": "f25a4317",
   "metadata": {},
   "outputs": [],
   "source": [
    "import tensorflow as tf\n",
    "import matplotlib.pyplot as plt\n",
    "import numpy as np\n",
    "import pandas as pd\n",
    "import seaborn as sns\n",
    "\n",
    "from tensorflow import keras\n",
    "from tensorflow.keras import layers"
   ]
  },
  {
   "cell_type": "markdown",
   "id": "589900ec",
   "metadata": {},
   "source": [
    "Make NumPy printouts easier to read"
   ]
  },
  {
   "cell_type": "code",
   "execution_count": 57,
   "id": "cdb1e2d2",
   "metadata": {},
   "outputs": [],
   "source": [
    "np.set_printoptions(precision = 3, suppress = True)"
   ]
  },
  {
   "cell_type": "markdown",
   "id": "13b9805b",
   "metadata": {},
   "source": [
    "### Import dataset"
   ]
  },
  {
   "cell_type": "code",
   "execution_count": 58,
   "id": "42fb1b0b",
   "metadata": {},
   "outputs": [],
   "source": [
    "dataset = pd.read_csv ('Data_Clean_3.csv')"
   ]
  },
  {
   "cell_type": "code",
   "execution_count": 59,
   "id": "bad6da74",
   "metadata": {},
   "outputs": [
    {
     "name": "stdout",
     "output_type": "stream",
     "text": [
      "<class 'pandas.core.frame.DataFrame'>\n",
      "RangeIndex: 80 entries, 0 to 79\n",
      "Data columns (total 10 columns):\n",
      " #   Column             Non-Null Count  Dtype\n",
      "---  ------             --------------  -----\n",
      " 0   Umur               80 non-null     int64\n",
      " 1   Gender             80 non-null     int64\n",
      " 2   Demam              80 non-null     int64\n",
      " 3   Batuk              80 non-null     int64\n",
      " 4   Kelelahan          80 non-null     int64\n",
      " 5   Sakit_tenggorokan  80 non-null     int64\n",
      " 6   Pilek              80 non-null     int64\n",
      " 7   Sesak_napas        80 non-null     int64\n",
      " 8   Muntah             80 non-null     int64\n",
      " 9   Lama_hari_sembuh   80 non-null     int64\n",
      "dtypes: int64(10)\n",
      "memory usage: 6.4 KB\n"
     ]
    }
   ],
   "source": [
    "dataset.info()"
   ]
  },
  {
   "cell_type": "markdown",
   "id": "b41bd622",
   "metadata": {},
   "source": [
    "Check dataset"
   ]
  },
  {
   "cell_type": "code",
   "execution_count": 60,
   "id": "5a6af4f7",
   "metadata": {},
   "outputs": [
    {
     "data": {
      "text/html": [
       "<div>\n",
       "<style scoped>\n",
       "    .dataframe tbody tr th:only-of-type {\n",
       "        vertical-align: middle;\n",
       "    }\n",
       "\n",
       "    .dataframe tbody tr th {\n",
       "        vertical-align: top;\n",
       "    }\n",
       "\n",
       "    .dataframe thead th {\n",
       "        text-align: right;\n",
       "    }\n",
       "</style>\n",
       "<table border=\"1\" class=\"dataframe\">\n",
       "  <thead>\n",
       "    <tr style=\"text-align: right;\">\n",
       "      <th></th>\n",
       "      <th>Umur</th>\n",
       "      <th>Gender</th>\n",
       "      <th>Demam</th>\n",
       "      <th>Batuk</th>\n",
       "      <th>Kelelahan</th>\n",
       "      <th>Sakit_tenggorokan</th>\n",
       "      <th>Pilek</th>\n",
       "      <th>Sesak_napas</th>\n",
       "      <th>Muntah</th>\n",
       "      <th>Lama_hari_sembuh</th>\n",
       "    </tr>\n",
       "  </thead>\n",
       "  <tbody>\n",
       "    <tr>\n",
       "      <th>0</th>\n",
       "      <td>44</td>\n",
       "      <td>0</td>\n",
       "      <td>1</td>\n",
       "      <td>0</td>\n",
       "      <td>1</td>\n",
       "      <td>0</td>\n",
       "      <td>0</td>\n",
       "      <td>0</td>\n",
       "      <td>0</td>\n",
       "      <td>8</td>\n",
       "    </tr>\n",
       "    <tr>\n",
       "      <th>1</th>\n",
       "      <td>39</td>\n",
       "      <td>0</td>\n",
       "      <td>1</td>\n",
       "      <td>0</td>\n",
       "      <td>1</td>\n",
       "      <td>0</td>\n",
       "      <td>1</td>\n",
       "      <td>0</td>\n",
       "      <td>0</td>\n",
       "      <td>10</td>\n",
       "    </tr>\n",
       "    <tr>\n",
       "      <th>2</th>\n",
       "      <td>30</td>\n",
       "      <td>1</td>\n",
       "      <td>1</td>\n",
       "      <td>1</td>\n",
       "      <td>0</td>\n",
       "      <td>1</td>\n",
       "      <td>0</td>\n",
       "      <td>0</td>\n",
       "      <td>0</td>\n",
       "      <td>0</td>\n",
       "    </tr>\n",
       "    <tr>\n",
       "      <th>3</th>\n",
       "      <td>66</td>\n",
       "      <td>1</td>\n",
       "      <td>1</td>\n",
       "      <td>1</td>\n",
       "      <td>0</td>\n",
       "      <td>0</td>\n",
       "      <td>0</td>\n",
       "      <td>0</td>\n",
       "      <td>0</td>\n",
       "      <td>27</td>\n",
       "    </tr>\n",
       "    <tr>\n",
       "      <th>4</th>\n",
       "      <td>40</td>\n",
       "      <td>1</td>\n",
       "      <td>1</td>\n",
       "      <td>1</td>\n",
       "      <td>0</td>\n",
       "      <td>0</td>\n",
       "      <td>0</td>\n",
       "      <td>0</td>\n",
       "      <td>0</td>\n",
       "      <td>14</td>\n",
       "    </tr>\n",
       "    <tr>\n",
       "      <th>...</th>\n",
       "      <td>...</td>\n",
       "      <td>...</td>\n",
       "      <td>...</td>\n",
       "      <td>...</td>\n",
       "      <td>...</td>\n",
       "      <td>...</td>\n",
       "      <td>...</td>\n",
       "      <td>...</td>\n",
       "      <td>...</td>\n",
       "      <td>...</td>\n",
       "    </tr>\n",
       "    <tr>\n",
       "      <th>75</th>\n",
       "      <td>20</td>\n",
       "      <td>0</td>\n",
       "      <td>1</td>\n",
       "      <td>0</td>\n",
       "      <td>1</td>\n",
       "      <td>0</td>\n",
       "      <td>0</td>\n",
       "      <td>1</td>\n",
       "      <td>0</td>\n",
       "      <td>10</td>\n",
       "    </tr>\n",
       "    <tr>\n",
       "      <th>76</th>\n",
       "      <td>20</td>\n",
       "      <td>0</td>\n",
       "      <td>0</td>\n",
       "      <td>1</td>\n",
       "      <td>1</td>\n",
       "      <td>0</td>\n",
       "      <td>0</td>\n",
       "      <td>0</td>\n",
       "      <td>0</td>\n",
       "      <td>7</td>\n",
       "    </tr>\n",
       "    <tr>\n",
       "      <th>77</th>\n",
       "      <td>22</td>\n",
       "      <td>0</td>\n",
       "      <td>1</td>\n",
       "      <td>1</td>\n",
       "      <td>1</td>\n",
       "      <td>1</td>\n",
       "      <td>1</td>\n",
       "      <td>0</td>\n",
       "      <td>0</td>\n",
       "      <td>14</td>\n",
       "    </tr>\n",
       "    <tr>\n",
       "      <th>78</th>\n",
       "      <td>21</td>\n",
       "      <td>1</td>\n",
       "      <td>1</td>\n",
       "      <td>1</td>\n",
       "      <td>1</td>\n",
       "      <td>1</td>\n",
       "      <td>1</td>\n",
       "      <td>0</td>\n",
       "      <td>0</td>\n",
       "      <td>7</td>\n",
       "    </tr>\n",
       "    <tr>\n",
       "      <th>79</th>\n",
       "      <td>20</td>\n",
       "      <td>1</td>\n",
       "      <td>1</td>\n",
       "      <td>1</td>\n",
       "      <td>1</td>\n",
       "      <td>1</td>\n",
       "      <td>1</td>\n",
       "      <td>0</td>\n",
       "      <td>0</td>\n",
       "      <td>10</td>\n",
       "    </tr>\n",
       "  </tbody>\n",
       "</table>\n",
       "<p>80 rows × 10 columns</p>\n",
       "</div>"
      ],
      "text/plain": [
       "    Umur  Gender  Demam  Batuk  Kelelahan  Sakit_tenggorokan  Pilek  \\\n",
       "0     44       0      1      0          1                  0      0   \n",
       "1     39       0      1      0          1                  0      1   \n",
       "2     30       1      1      1          0                  1      0   \n",
       "3     66       1      1      1          0                  0      0   \n",
       "4     40       1      1      1          0                  0      0   \n",
       "..   ...     ...    ...    ...        ...                ...    ...   \n",
       "75    20       0      1      0          1                  0      0   \n",
       "76    20       0      0      1          1                  0      0   \n",
       "77    22       0      1      1          1                  1      1   \n",
       "78    21       1      1      1          1                  1      1   \n",
       "79    20       1      1      1          1                  1      1   \n",
       "\n",
       "    Sesak_napas  Muntah  Lama_hari_sembuh  \n",
       "0             0       0                 8  \n",
       "1             0       0                10  \n",
       "2             0       0                 0  \n",
       "3             0       0                27  \n",
       "4             0       0                14  \n",
       "..          ...     ...               ...  \n",
       "75            1       0                10  \n",
       "76            0       0                 7  \n",
       "77            0       0                14  \n",
       "78            0       0                 7  \n",
       "79            0       0                10  \n",
       "\n",
       "[80 rows x 10 columns]"
      ]
     },
     "execution_count": 60,
     "metadata": {},
     "output_type": "execute_result"
    }
   ],
   "source": [
    "dataset"
   ]
  },
  {
   "cell_type": "markdown",
   "id": "1ece3690",
   "metadata": {},
   "source": [
    "### Split dataset into training and testing"
   ]
  },
  {
   "cell_type": "code",
   "execution_count": 61,
   "id": "6321697f",
   "metadata": {},
   "outputs": [],
   "source": [
    "x_train = dataset.sample(frac = 0.8, random_state = 0)\n",
    "x_test = dataset.drop(x_train.index)"
   ]
  },
  {
   "cell_type": "markdown",
   "id": "18b893c3",
   "metadata": {},
   "source": [
    "Inspect the data"
   ]
  },
  {
   "cell_type": "markdown",
   "id": "b0c24819",
   "metadata": {},
   "source": [
    "Review the joint distribution of columns from the training set.\n",
    "The top row suggests that the 'Lama_hari_sembuh' is a function of all the other parameters. The other rows indicate they are functions of each other."
   ]
  },
  {
   "cell_type": "code",
   "execution_count": 62,
   "id": "6c2a60f9",
   "metadata": {},
   "outputs": [
    {
     "data": {
      "text/plain": [
       "<seaborn.axisgrid.PairGrid at 0x1c82a2c5580>"
      ]
     },
     "execution_count": 62,
     "metadata": {},
     "output_type": "execute_result"
    },
    {
     "data": {
      "image/png": "[encoded data removed]",
      "text/plain": [
       "<Figure size 360x360 with 6 Axes>"
      ]
     },
     "metadata": {
      "needs_background": "light"
     },
     "output_type": "display_data"
    }
   ],
   "source": [
    "sns.pairplot(x_train[['Lama_hari_sembuh', 'Umur']], diag_kind = 'kde')"
   ]
  },
  {
   "cell_type": "code",
   "execution_count": 63,
   "id": "9c14b443",
   "metadata": {},
   "outputs": [
    {
     "data": {
      "text/plain": [
       "<AxesSubplot:xlabel='Lama_hari_sembuh', ylabel='Umur'>"
      ]
     },
     "execution_count": 63,
     "metadata": {},
     "output_type": "execute_result"
    },
    {
     "data": {
      "image/png": "[encoded data removed]",
      "text/plain": [
       "<Figure size 432x288 with 1 Axes>"
      ]
     },
     "metadata": {
      "needs_background": "light"
     },
     "output_type": "display_data"
    }
   ],
   "source": [
    "sns.scatterplot(x = 'Lama_hari_sembuh', y = 'Umur', data = x_train)"
   ]
  },
  {
   "cell_type": "markdown",
   "id": "3ba4917b",
   "metadata": {},
   "source": [
    "Check the overall statistics"
   ]
  },
  {
   "cell_type": "code",
   "execution_count": 64,
   "id": "04ff4891",
   "metadata": {},
   "outputs": [
    {
     "data": {
      "text/html": [
       "<div>\n",
       "<style scoped>\n",
       "    .dataframe tbody tr th:only-of-type {\n",
       "        vertical-align: middle;\n",
       "    }\n",
       "\n",
       "    .dataframe tbody tr th {\n",
       "        vertical-align: top;\n",
       "    }\n",
       "\n",
       "    .dataframe thead th {\n",
       "        text-align: right;\n",
       "    }\n",
       "</style>\n",
       "<table border=\"1\" class=\"dataframe\">\n",
       "  <thead>\n",
       "    <tr style=\"text-align: right;\">\n",
       "      <th></th>\n",
       "      <th>Umur</th>\n",
       "      <th>Gender</th>\n",
       "      <th>Demam</th>\n",
       "      <th>Batuk</th>\n",
       "      <th>Kelelahan</th>\n",
       "      <th>Sakit_tenggorokan</th>\n",
       "      <th>Pilek</th>\n",
       "      <th>Sesak_napas</th>\n",
       "      <th>Muntah</th>\n",
       "      <th>Lama_hari_sembuh</th>\n",
       "    </tr>\n",
       "  </thead>\n",
       "  <tbody>\n",
       "    <tr>\n",
       "      <th>count</th>\n",
       "      <td>64.000000</td>\n",
       "      <td>64.000000</td>\n",
       "      <td>64.000000</td>\n",
       "      <td>64.0000</td>\n",
       "      <td>64.000000</td>\n",
       "      <td>64.000000</td>\n",
       "      <td>64.00000</td>\n",
       "      <td>64.000000</td>\n",
       "      <td>64.000000</td>\n",
       "      <td>64.000000</td>\n",
       "    </tr>\n",
       "    <tr>\n",
       "      <th>mean</th>\n",
       "      <td>34.750000</td>\n",
       "      <td>0.546875</td>\n",
       "      <td>0.734375</td>\n",
       "      <td>0.5625</td>\n",
       "      <td>0.468750</td>\n",
       "      <td>0.421875</td>\n",
       "      <td>0.37500</td>\n",
       "      <td>0.171875</td>\n",
       "      <td>0.078125</td>\n",
       "      <td>11.546875</td>\n",
       "    </tr>\n",
       "    <tr>\n",
       "      <th>std</th>\n",
       "      <td>15.928411</td>\n",
       "      <td>0.501733</td>\n",
       "      <td>0.445157</td>\n",
       "      <td>0.5000</td>\n",
       "      <td>0.502967</td>\n",
       "      <td>0.497763</td>\n",
       "      <td>0.48795</td>\n",
       "      <td>0.380254</td>\n",
       "      <td>0.270490</td>\n",
       "      <td>6.057737</td>\n",
       "    </tr>\n",
       "    <tr>\n",
       "      <th>min</th>\n",
       "      <td>16.000000</td>\n",
       "      <td>0.000000</td>\n",
       "      <td>0.000000</td>\n",
       "      <td>0.0000</td>\n",
       "      <td>0.000000</td>\n",
       "      <td>0.000000</td>\n",
       "      <td>0.00000</td>\n",
       "      <td>0.000000</td>\n",
       "      <td>0.000000</td>\n",
       "      <td>0.000000</td>\n",
       "    </tr>\n",
       "    <tr>\n",
       "      <th>25%</th>\n",
       "      <td>21.000000</td>\n",
       "      <td>0.000000</td>\n",
       "      <td>0.000000</td>\n",
       "      <td>0.0000</td>\n",
       "      <td>0.000000</td>\n",
       "      <td>0.000000</td>\n",
       "      <td>0.00000</td>\n",
       "      <td>0.000000</td>\n",
       "      <td>0.000000</td>\n",
       "      <td>7.000000</td>\n",
       "    </tr>\n",
       "    <tr>\n",
       "      <th>50%</th>\n",
       "      <td>30.000000</td>\n",
       "      <td>1.000000</td>\n",
       "      <td>1.000000</td>\n",
       "      <td>1.0000</td>\n",
       "      <td>0.000000</td>\n",
       "      <td>0.000000</td>\n",
       "      <td>0.00000</td>\n",
       "      <td>0.000000</td>\n",
       "      <td>0.000000</td>\n",
       "      <td>12.000000</td>\n",
       "    </tr>\n",
       "    <tr>\n",
       "      <th>75%</th>\n",
       "      <td>42.500000</td>\n",
       "      <td>1.000000</td>\n",
       "      <td>1.000000</td>\n",
       "      <td>1.0000</td>\n",
       "      <td>1.000000</td>\n",
       "      <td>1.000000</td>\n",
       "      <td>1.00000</td>\n",
       "      <td>0.000000</td>\n",
       "      <td>0.000000</td>\n",
       "      <td>15.000000</td>\n",
       "    </tr>\n",
       "    <tr>\n",
       "      <th>max</th>\n",
       "      <td>73.000000</td>\n",
       "      <td>1.000000</td>\n",
       "      <td>1.000000</td>\n",
       "      <td>1.0000</td>\n",
       "      <td>1.000000</td>\n",
       "      <td>1.000000</td>\n",
       "      <td>1.00000</td>\n",
       "      <td>1.000000</td>\n",
       "      <td>1.000000</td>\n",
       "      <td>28.000000</td>\n",
       "    </tr>\n",
       "  </tbody>\n",
       "</table>\n",
       "</div>"
      ],
      "text/plain": [
       "            Umur     Gender      Demam    Batuk  Kelelahan  Sakit_tenggorokan  \\\n",
       "count  64.000000  64.000000  64.000000  64.0000  64.000000          64.000000   \n",
       "mean   34.750000   0.546875   0.734375   0.5625   0.468750           0.421875   \n",
       "std    15.928411   0.501733   0.445157   0.5000   0.502967           0.497763   \n",
       "min    16.000000   0.000000   0.000000   0.0000   0.000000           0.000000   \n",
       "25%    21.000000   0.000000   0.000000   0.0000   0.000000           0.000000   \n",
       "50%    30.000000   1.000000   1.000000   1.0000   0.000000           0.000000   \n",
       "75%    42.500000   1.000000   1.000000   1.0000   1.000000           1.000000   \n",
       "max    73.000000   1.000000   1.000000   1.0000   1.000000           1.000000   \n",
       "\n",
       "          Pilek  Sesak_napas     Muntah  Lama_hari_sembuh  \n",
       "count  64.00000    64.000000  64.000000         64.000000  \n",
       "mean    0.37500     0.171875   0.078125         11.546875  \n",
       "std     0.48795     0.380254   0.270490          6.057737  \n",
       "min     0.00000     0.000000   0.000000          0.000000  \n",
       "25%     0.00000     0.000000   0.000000          7.000000  \n",
       "50%     0.00000     0.000000   0.000000         12.000000  \n",
       "75%     1.00000     0.000000   0.000000         15.000000  \n",
       "max     1.00000     1.000000   1.000000         28.000000  "
      ]
     },
     "execution_count": 64,
     "metadata": {},
     "output_type": "execute_result"
    }
   ],
   "source": [
    "x_train.describe()"
   ]
  },
  {
   "cell_type": "markdown",
   "id": "5485e405",
   "metadata": {},
   "source": [
    "Split features from labels"
   ]
  },
  {
   "cell_type": "code",
   "execution_count": 65,
   "id": "5debcfd4",
   "metadata": {},
   "outputs": [],
   "source": [
    "y_train = x_train.copy()\n",
    "y_test = x_test.copy()\n",
    "\n",
    "train_labels = y_train.pop('Lama_hari_sembuh')\n",
    "test_labels = y_test.pop('Lama_hari_sembuh')"
   ]
  },
  {
   "cell_type": "markdown",
   "id": "8feb97bf",
   "metadata": {},
   "source": [
    "### Normalization"
   ]
  },
  {
   "cell_type": "markdown",
   "id": "95d40979",
   "metadata": {},
   "source": [
    "Create the layer"
   ]
  },
  {
   "cell_type": "code",
   "execution_count": 66,
   "id": "9b05dc6a",
   "metadata": {},
   "outputs": [],
   "source": [
    "normalizer = tf.keras.layers.Normalization(axis = -1, input_shape = [9])"
   ]
  },
  {
   "cell_type": "markdown",
   "id": "7459bf45",
   "metadata": {},
   "source": [
    "Fit the state of the preprocessing layer to the data"
   ]
  },
  {
   "cell_type": "code",
   "execution_count": 67,
   "id": "214698d5",
   "metadata": {},
   "outputs": [],
   "source": [
    "normalizer.adapt(np.asarray(y_train))"
   ]
  },
  {
   "cell_type": "markdown",
   "id": "f37eeb18",
   "metadata": {},
   "source": [
    "Calculate the mean and variance, and store them in the layer"
   ]
  },
  {
   "cell_type": "code",
   "execution_count": 68,
   "id": "78d91e92",
   "metadata": {},
   "outputs": [
    {
     "name": "stdout",
     "output_type": "stream",
     "text": [
      "[[34.75   0.547  0.734  0.562  0.469  0.422  0.375  0.172  0.078]]\n"
     ]
    }
   ],
   "source": [
    "print(normalizer.mean.numpy())"
   ]
  },
  {
   "cell_type": "markdown",
   "id": "a55f5bc5",
   "metadata": {},
   "source": [
    "When the layer is called, it returns the input data, with each feature independently normalized"
   ]
  },
  {
   "cell_type": "code",
   "execution_count": 69,
   "id": "f9aa4bec",
   "metadata": {},
   "outputs": [
    {
     "name": "stdout",
     "output_type": "stream",
     "text": [
      "First example: [[20  0  1  1  1  1  0  0  0]]\n",
      "Normalized: [[-0.93 -1.1   0.6   0.88  1.06  1.17 -0.77 -0.46 -0.29]]\n"
     ]
    }
   ],
   "source": [
    "first = np.array(y_train[:1])\n",
    "\n",
    "with np.printoptions(precision = 2, suppress = True):\n",
    "  print('First example:', first)\n",
    "  print('Normalized:', normalizer(first).numpy())"
   ]
  },
  {
   "cell_type": "markdown",
   "id": "293e4ca0",
   "metadata": {},
   "source": [
    "- The normalization layer (normalizer).\n",
    "- Two hidden, non-linear, Dense layers with the ReLU (relu) activation function nonlinearity.\n",
    "- A linear Dense single-output layer."
   ]
  },
  {
   "cell_type": "code",
   "execution_count": 70,
   "id": "3c59c850",
   "metadata": {},
   "outputs": [],
   "source": [
    "model = keras.Sequential([\n",
    "    normalizer,\n",
    "    layers.Dense(64, activation='relu'),\n",
    "    layers.Dense(64, activation='relu'),\n",
    "    layers.Dense(1)\n",
    "])\n",
    "\n",
    "model.compile(loss = 'mean_absolute_error', metrics = ['mse'],\n",
    "              optimizer=tf.keras.optimizers.Adam(0.001))"
   ]
  },
  {
   "cell_type": "markdown",
   "id": "72cdc891",
   "metadata": {},
   "source": [
    "### Train the model with Keras Model.fit"
   ]
  },
  {
   "cell_type": "code",
   "execution_count": 71,
   "id": "f8167d3a",
   "metadata": {},
   "outputs": [
    {
     "name": "stdout",
     "output_type": "stream",
     "text": [
      "Epoch 1/100\n",
      "2/2 [==============================] - 1s 240ms/step - loss: 12.0025 - mse: 182.4625 - val_loss: 9.0381 - val_mse: 101.6279\n",
      "Epoch 2/100\n",
      "2/2 [==============================] - 0s 46ms/step - loss: 11.8174 - mse: 177.7089 - val_loss: 8.8614 - val_mse: 98.0818\n",
      "Epoch 3/100\n",
      "2/2 [==============================] - 0s 46ms/step - loss: 11.6324 - mse: 173.3858 - val_loss: 8.6835 - val_mse: 94.5743\n",
      "Epoch 4/100\n",
      "2/2 [==============================] - 0s 46ms/step - loss: 11.4483 - mse: 168.9120 - val_loss: 8.5039 - val_mse: 91.1284\n",
      "Epoch 5/100\n",
      "2/2 [==============================] - 0s 47ms/step - loss: 11.2487 - mse: 164.2268 - val_loss: 8.3214 - val_mse: 87.7160\n",
      "Epoch 6/100\n",
      "2/2 [==============================] - 0s 55ms/step - loss: 11.0542 - mse: 159.6514 - val_loss: 8.1337 - val_mse: 84.3186\n",
      "Epoch 7/100\n",
      "2/2 [==============================] - 0s 44ms/step - loss: 10.8454 - mse: 154.7275 - val_loss: 7.9384 - val_mse: 80.8831\n",
      "Epoch 8/100\n",
      "2/2 [==============================] - 0s 45ms/step - loss: 10.6354 - mse: 150.1218 - val_loss: 7.7372 - val_mse: 77.4382\n",
      "Epoch 9/100\n",
      "2/2 [==============================] - 0s 47ms/step - loss: 10.4170 - mse: 145.4888 - val_loss: 7.5286 - val_mse: 73.9891\n",
      "Epoch 10/100\n",
      "2/2 [==============================] - 0s 46ms/step - loss: 10.1942 - mse: 140.6159 - val_loss: 7.3131 - val_mse: 70.5376\n",
      "Epoch 11/100\n",
      "2/2 [==============================] - 0s 45ms/step - loss: 9.9549 - mse: 135.7209 - val_loss: 7.0908 - val_mse: 67.0946\n",
      "Epoch 12/100\n",
      "2/2 [==============================] - 0s 48ms/step - loss: 9.7074 - mse: 130.8222 - val_loss: 6.8566 - val_mse: 63.5907\n",
      "Epoch 13/100\n",
      "2/2 [==============================] - 0s 59ms/step - loss: 9.4529 - mse: 125.4607 - val_loss: 6.6131 - val_mse: 60.0958\n",
      "Epoch 14/100\n",
      "2/2 [==============================] - 0s 44ms/step - loss: 9.1916 - mse: 120.4900 - val_loss: 6.3582 - val_mse: 56.5946\n",
      "Epoch 15/100\n",
      "2/2 [==============================] - 0s 47ms/step - loss: 8.9158 - mse: 115.0824 - val_loss: 6.0914 - val_mse: 53.1068\n",
      "Epoch 16/100\n",
      "2/2 [==============================] - 0s 66ms/step - loss: 8.6405 - mse: 109.7393 - val_loss: 5.8640 - val_mse: 49.5814\n",
      "Epoch 17/100\n",
      "2/2 [==============================] - 0s 52ms/step - loss: 8.3742 - mse: 104.2422 - val_loss: 5.6257 - val_mse: 46.0683\n",
      "Epoch 18/100\n",
      "2/2 [==============================] - 0s 58ms/step - loss: 8.1145 - mse: 98.7485 - val_loss: 5.4151 - val_mse: 42.6539\n",
      "Epoch 19/100\n",
      "2/2 [==============================] - 0s 73ms/step - loss: 7.8438 - mse: 93.5584 - val_loss: 5.2318 - val_mse: 39.3501\n",
      "Epoch 20/100\n",
      "2/2 [==============================] - 0s 51ms/step - loss: 7.5681 - mse: 88.0657 - val_loss: 5.0379 - val_mse: 36.1770\n",
      "Epoch 21/100\n",
      "2/2 [==============================] - 0s 59ms/step - loss: 7.3199 - mse: 82.4259 - val_loss: 4.8307 - val_mse: 33.1646\n",
      "Epoch 22/100\n",
      "2/2 [==============================] - 0s 67ms/step - loss: 7.1123 - mse: 77.5027 - val_loss: 4.6620 - val_mse: 30.2602\n",
      "Epoch 23/100\n",
      "2/2 [==============================] - 0s 64ms/step - loss: 6.9071 - mse: 72.5005 - val_loss: 4.5223 - val_mse: 27.5963\n",
      "Epoch 24/100\n",
      "2/2 [==============================] - 0s 48ms/step - loss: 6.7098 - mse: 67.9994 - val_loss: 4.3789 - val_mse: 25.2260\n",
      "Epoch 25/100\n",
      "2/2 [==============================] - 0s 50ms/step - loss: 6.5099 - mse: 63.3423 - val_loss: 4.2293 - val_mse: 23.0954\n",
      "Epoch 26/100\n",
      "2/2 [==============================] - 0s 46ms/step - loss: 6.3303 - mse: 59.3597 - val_loss: 4.0758 - val_mse: 21.2367\n",
      "Epoch 27/100\n",
      "2/2 [==============================] - 0s 42ms/step - loss: 6.1251 - mse: 54.9460 - val_loss: 3.9198 - val_mse: 19.6458\n",
      "Epoch 28/100\n",
      "2/2 [==============================] - 0s 54ms/step - loss: 5.9375 - mse: 51.3459 - val_loss: 3.7595 - val_mse: 18.2833\n",
      "Epoch 29/100\n",
      "2/2 [==============================] - 0s 49ms/step - loss: 5.7698 - mse: 47.9640 - val_loss: 3.6176 - val_mse: 17.1649\n",
      "Epoch 30/100\n",
      "2/2 [==============================] - 0s 43ms/step - loss: 5.6611 - mse: 45.1179 - val_loss: 3.5019 - val_mse: 16.2624\n",
      "Epoch 31/100\n",
      "2/2 [==============================] - 0s 50ms/step - loss: 5.4758 - mse: 41.9237 - val_loss: 3.3868 - val_mse: 15.5749\n",
      "Epoch 32/100\n",
      "2/2 [==============================] - 0s 47ms/step - loss: 5.3022 - mse: 39.1456 - val_loss: 3.2689 - val_mse: 15.0472\n",
      "Epoch 33/100\n",
      "2/2 [==============================] - 0s 63ms/step - loss: 5.1576 - mse: 37.0713 - val_loss: 3.2047 - val_mse: 14.6884\n",
      "Epoch 34/100\n",
      "2/2 [==============================] - 0s 203ms/step - loss: 4.9977 - mse: 34.7647 - val_loss: 3.1448 - val_mse: 14.5168\n",
      "Epoch 35/100\n",
      "2/2 [==============================] - 0s 50ms/step - loss: 4.8325 - mse: 32.6751 - val_loss: 3.0805 - val_mse: 14.5069\n",
      "Epoch 36/100\n",
      "2/2 [==============================] - 0s 51ms/step - loss: 4.6613 - mse: 30.7149 - val_loss: 3.0118 - val_mse: 14.6559\n",
      "Epoch 37/100\n",
      "2/2 [==============================] - 0s 45ms/step - loss: 4.5124 - mse: 29.2659 - val_loss: 3.0400 - val_mse: 15.0196\n",
      "Epoch 38/100\n",
      "2/2 [==============================] - 0s 49ms/step - loss: 4.3691 - mse: 28.0433 - val_loss: 3.1584 - val_mse: 15.5845\n",
      "Epoch 39/100\n",
      "2/2 [==============================] - 0s 48ms/step - loss: 4.2350 - mse: 27.0017 - val_loss: 3.2745 - val_mse: 16.2943\n",
      "Epoch 40/100\n",
      "2/2 [==============================] - 0s 44ms/step - loss: 4.1047 - mse: 25.9469 - val_loss: 3.3792 - val_mse: 17.0316\n",
      "Epoch 41/100\n",
      "2/2 [==============================] - 0s 51ms/step - loss: 4.0210 - mse: 25.6469 - val_loss: 3.4705 - val_mse: 17.7373\n",
      "Epoch 42/100\n",
      "2/2 [==============================] - 0s 50ms/step - loss: 3.9145 - mse: 24.8227 - val_loss: 3.5817 - val_mse: 18.4081\n",
      "Epoch 43/100\n",
      "2/2 [==============================] - 0s 51ms/step - loss: 3.8789 - mse: 24.7489 - val_loss: 3.6727 - val_mse: 18.7747\n",
      "Epoch 44/100\n",
      "2/2 [==============================] - 0s 48ms/step - loss: 3.8480 - mse: 24.5343 - val_loss: 3.7178 - val_mse: 18.7502\n",
      "Epoch 45/100\n",
      "2/2 [==============================] - 0s 40ms/step - loss: 3.7985 - mse: 23.9912 - val_loss: 3.6931 - val_mse: 18.1528\n",
      "Epoch 46/100\n",
      "2/2 [==============================] - 0s 55ms/step - loss: 3.7462 - mse: 23.4869 - val_loss: 3.6320 - val_mse: 17.3236\n",
      "Epoch 47/100\n",
      "2/2 [==============================] - 0s 55ms/step - loss: 3.6893 - mse: 22.8970 - val_loss: 3.5452 - val_mse: 16.4232\n",
      "Epoch 48/100\n",
      "2/2 [==============================] - 0s 45ms/step - loss: 3.6340 - mse: 22.2698 - val_loss: 3.4544 - val_mse: 15.5942\n",
      "Epoch 49/100\n",
      "2/2 [==============================] - 0s 84ms/step - loss: 3.5836 - mse: 21.8701 - val_loss: 3.4092 - val_mse: 14.9648\n",
      "Epoch 50/100\n",
      "2/2 [==============================] - 0s 43ms/step - loss: 3.5546 - mse: 21.4989 - val_loss: 3.3699 - val_mse: 14.4480\n",
      "Epoch 51/100\n",
      "2/2 [==============================] - 0s 48ms/step - loss: 3.5205 - mse: 21.2310 - val_loss: 3.3419 - val_mse: 14.0608\n",
      "Epoch 52/100\n",
      "2/2 [==============================] - 0s 51ms/step - loss: 3.4921 - mse: 20.9781 - val_loss: 3.3189 - val_mse: 13.7529\n",
      "Epoch 53/100\n",
      "2/2 [==============================] - 0s 46ms/step - loss: 3.4613 - mse: 20.7246 - val_loss: 3.3012 - val_mse: 13.5172\n",
      "Epoch 54/100\n",
      "2/2 [==============================] - 0s 44ms/step - loss: 3.4279 - mse: 20.4995 - val_loss: 3.2807 - val_mse: 13.2756\n",
      "Epoch 55/100\n",
      "2/2 [==============================] - 0s 48ms/step - loss: 3.4029 - mse: 20.3651 - val_loss: 3.2557 - val_mse: 13.0295\n",
      "Epoch 56/100\n",
      "2/2 [==============================] - 0s 51ms/step - loss: 3.3700 - mse: 20.1992 - val_loss: 3.2412 - val_mse: 12.8673\n",
      "Epoch 57/100\n",
      "2/2 [==============================] - 0s 45ms/step - loss: 3.3442 - mse: 19.9865 - val_loss: 3.2366 - val_mse: 12.7740\n",
      "Epoch 58/100\n",
      "2/2 [==============================] - 0s 45ms/step - loss: 3.3186 - mse: 19.7755 - val_loss: 3.2397 - val_mse: 12.7299\n",
      "Epoch 59/100\n",
      "2/2 [==============================] - 0s 59ms/step - loss: 3.2913 - mse: 19.5544 - val_loss: 3.2443 - val_mse: 12.6972\n",
      "Epoch 60/100\n",
      "2/2 [==============================] - 0s 44ms/step - loss: 3.2705 - mse: 19.3732 - val_loss: 3.2472 - val_mse: 12.6575\n",
      "Epoch 61/100\n",
      "2/2 [==============================] - 0s 50ms/step - loss: 3.2479 - mse: 19.1638 - val_loss: 3.2541 - val_mse: 12.6443\n",
      "Epoch 62/100\n",
      "2/2 [==============================] - 0s 122ms/step - loss: 3.2219 - mse: 18.9296 - val_loss: 3.2657 - val_mse: 12.6687\n",
      "Epoch 63/100\n",
      "2/2 [==============================] - 0s 55ms/step - loss: 3.1970 - mse: 18.7470 - val_loss: 3.2645 - val_mse: 12.6152\n",
      "Epoch 64/100\n",
      "2/2 [==============================] - 0s 51ms/step - loss: 3.1735 - mse: 18.5802 - val_loss: 3.2629 - val_mse: 12.5660\n",
      "Epoch 65/100\n",
      "2/2 [==============================] - 0s 49ms/step - loss: 3.1539 - mse: 18.4203 - val_loss: 3.2651 - val_mse: 12.5429\n",
      "Epoch 66/100\n",
      "2/2 [==============================] - 0s 51ms/step - loss: 3.1249 - mse: 18.2206 - val_loss: 3.2603 - val_mse: 12.4929\n",
      "Epoch 67/100\n",
      "2/2 [==============================] - 0s 43ms/step - loss: 3.1069 - mse: 18.0952 - val_loss: 3.2634 - val_mse: 12.5067\n",
      "Epoch 68/100\n",
      "2/2 [==============================] - 0s 53ms/step - loss: 3.0789 - mse: 17.9494 - val_loss: 3.2605 - val_mse: 12.4841\n",
      "Epoch 69/100\n",
      "2/2 [==============================] - 0s 49ms/step - loss: 3.0599 - mse: 17.8204 - val_loss: 3.2649 - val_mse: 12.5066\n",
      "Epoch 70/100\n",
      "2/2 [==============================] - 0s 63ms/step - loss: 3.0396 - mse: 17.6760 - val_loss: 3.2741 - val_mse: 12.5694\n",
      "Epoch 71/100\n",
      "2/2 [==============================] - 0s 52ms/step - loss: 3.0091 - mse: 17.4807 - val_loss: 3.2733 - val_mse: 12.5695\n",
      "Epoch 72/100\n",
      "2/2 [==============================] - 0s 73ms/step - loss: 2.9899 - mse: 17.3593 - val_loss: 3.2798 - val_mse: 12.6114\n",
      "Epoch 73/100\n",
      "2/2 [==============================] - 0s 47ms/step - loss: 2.9700 - mse: 17.2063 - val_loss: 3.2778 - val_mse: 12.6019\n",
      "Epoch 74/100\n",
      "2/2 [==============================] - 0s 162ms/step - loss: 2.9499 - mse: 17.0927 - val_loss: 3.2718 - val_mse: 12.5826\n",
      "Epoch 75/100\n",
      "2/2 [==============================] - 0s 83ms/step - loss: 2.9242 - mse: 16.9521 - val_loss: 3.2496 - val_mse: 12.4766\n",
      "Epoch 76/100\n",
      "2/2 [==============================] - 0s 49ms/step - loss: 2.9091 - mse: 16.8633 - val_loss: 3.2387 - val_mse: 12.4177\n",
      "Epoch 77/100\n",
      "2/2 [==============================] - 0s 65ms/step - loss: 2.8906 - mse: 16.7281 - val_loss: 3.2481 - val_mse: 12.4614\n",
      "Epoch 78/100\n",
      "2/2 [==============================] - 0s 70ms/step - loss: 2.8727 - mse: 16.5281 - val_loss: 3.2696 - val_mse: 12.5778\n",
      "Epoch 79/100\n",
      "2/2 [==============================] - 0s 51ms/step - loss: 2.8614 - mse: 16.3861 - val_loss: 3.2764 - val_mse: 12.6126\n",
      "Epoch 80/100\n",
      "2/2 [==============================] - 0s 48ms/step - loss: 2.8418 - mse: 16.2125 - val_loss: 3.2832 - val_mse: 12.6418\n",
      "Epoch 81/100\n",
      "2/2 [==============================] - 0s 53ms/step - loss: 2.8234 - mse: 16.0341 - val_loss: 3.3014 - val_mse: 12.7481\n",
      "Epoch 82/100\n",
      "2/2 [==============================] - 0s 55ms/step - loss: 2.8099 - mse: 15.9648 - val_loss: 3.3133 - val_mse: 12.8148\n",
      "Epoch 83/100\n",
      "2/2 [==============================] - 0s 44ms/step - loss: 2.8003 - mse: 15.8467 - val_loss: 3.3227 - val_mse: 12.8749\n",
      "Epoch 84/100\n",
      "2/2 [==============================] - 0s 61ms/step - loss: 2.7914 - mse: 15.7123 - val_loss: 3.3050 - val_mse: 12.7779\n",
      "Epoch 85/100\n",
      "2/2 [==============================] - 0s 56ms/step - loss: 2.7750 - mse: 15.6588 - val_loss: 3.2994 - val_mse: 12.7652\n",
      "Epoch 86/100\n",
      "2/2 [==============================] - 0s 58ms/step - loss: 2.7505 - mse: 15.4835 - val_loss: 3.3059 - val_mse: 12.8300\n",
      "Epoch 87/100\n",
      "2/2 [==============================] - 0s 50ms/step - loss: 2.7387 - mse: 15.3987 - val_loss: 3.3060 - val_mse: 12.8500\n",
      "Epoch 88/100\n",
      "2/2 [==============================] - 0s 42ms/step - loss: 2.7249 - mse: 15.2872 - val_loss: 3.3235 - val_mse: 12.9915\n",
      "Epoch 89/100\n",
      "2/2 [==============================] - 0s 44ms/step - loss: 2.7103 - mse: 15.1692 - val_loss: 3.3351 - val_mse: 13.0783\n",
      "Epoch 90/100\n",
      "2/2 [==============================] - 0s 51ms/step - loss: 2.6990 - mse: 15.0320 - val_loss: 3.3453 - val_mse: 13.1350\n",
      "Epoch 91/100\n",
      "2/2 [==============================] - 0s 43ms/step - loss: 2.6861 - mse: 14.9151 - val_loss: 3.3282 - val_mse: 13.0396\n",
      "Epoch 92/100\n",
      "2/2 [==============================] - 0s 49ms/step - loss: 2.6749 - mse: 14.8941 - val_loss: 3.3096 - val_mse: 12.9587\n",
      "Epoch 93/100\n",
      "2/2 [==============================] - 0s 45ms/step - loss: 2.6574 - mse: 14.7994 - val_loss: 3.3064 - val_mse: 12.9620\n",
      "Epoch 94/100\n",
      "2/2 [==============================] - 0s 46ms/step - loss: 2.6456 - mse: 14.6947 - val_loss: 3.3166 - val_mse: 13.0469\n",
      "Epoch 95/100\n",
      "2/2 [==============================] - 0s 42ms/step - loss: 2.6395 - mse: 14.6074 - val_loss: 3.3381 - val_mse: 13.1858\n",
      "Epoch 96/100\n",
      "2/2 [==============================] - 0s 135ms/step - loss: 2.6220 - mse: 14.4699 - val_loss: 3.3363 - val_mse: 13.1915\n",
      "Epoch 97/100\n",
      "2/2 [==============================] - 0s 51ms/step - loss: 2.6057 - mse: 14.3933 - val_loss: 3.3363 - val_mse: 13.2232\n",
      "Epoch 98/100\n",
      "2/2 [==============================] - 0s 65ms/step - loss: 2.5937 - mse: 14.3739 - val_loss: 3.3347 - val_mse: 13.2391\n",
      "Epoch 99/100\n",
      "2/2 [==============================] - 0s 60ms/step - loss: 2.5802 - mse: 14.2845 - val_loss: 3.3397 - val_mse: 13.2873\n",
      "Epoch 100/100\n",
      "2/2 [==============================] - 0s 49ms/step - loss: 2.5703 - mse: 14.1708 - val_loss: 3.3445 - val_mse: 13.3436\n"
     ]
    }
   ],
   "source": [
    "history = model.fit(\n",
    "    y_train,\n",
    "    train_labels,\n",
    "    validation_split = 0.2,\n",
    "    epochs = 100)"
   ]
  },
  {
   "cell_type": "markdown",
   "id": "20fb485d",
   "metadata": {},
   "source": [
    "Review the architecture of the network"
   ]
  },
  {
   "cell_type": "code",
   "execution_count": 72,
   "id": "5b6f8df0",
   "metadata": {},
   "outputs": [
    {
     "name": "stdout",
     "output_type": "stream",
     "text": [
      "Model: \"sequential_2\"\n",
      "_________________________________________________________________\n",
      " Layer (type)                Output Shape              Param #   \n",
      "=================================================================\n",
      " normalization_2 (Normalizat  (None, 9)                19        \n",
      " ion)                                                            \n",
      "                                                                 \n",
      " dense_6 (Dense)             (None, 64)                640       \n",
      "                                                                 \n",
      " dense_7 (Dense)             (None, 64)                4160      \n",
      "                                                                 \n",
      " dense_8 (Dense)             (None, 1)                 65        \n",
      "                                                                 \n",
      "=================================================================\n",
      "Total params: 4,884\n",
      "Trainable params: 4,865\n",
      "Non-trainable params: 19\n",
      "_________________________________________________________________\n"
     ]
    }
   ],
   "source": [
    "model.summary()"
   ]
  },
  {
   "cell_type": "markdown",
   "id": "7e80bd43",
   "metadata": {},
   "source": [
    "### Model Evaluation"
   ]
  },
  {
   "cell_type": "markdown",
   "id": "6d5c0b07",
   "metadata": {},
   "source": [
    "Evaluating MAE from the model"
   ]
  },
  {
   "cell_type": "code",
   "execution_count": 73,
   "id": "18da139f",
   "metadata": {},
   "outputs": [
    {
     "data": {
      "image/png": "[encoded data removed]",
      "text/plain": [
       "<Figure size 432x288 with 1 Axes>"
      ]
     },
     "metadata": {
      "needs_background": "light"
     },
     "output_type": "display_data"
    }
   ],
   "source": [
    "plt.plot(history.history['loss'], label='loss')\n",
    "plt.plot(history.history['val_loss'], label='val_loss')\n",
    "plt.ylim([0, 10])\n",
    "plt.xlabel('Epoch')\n",
    "plt.ylabel('MAE [Lama hari sembuh]')\n",
    "plt.legend()\n",
    "plt.grid(True)"
   ]
  },
  {
   "cell_type": "markdown",
   "id": "869b549a",
   "metadata": {},
   "source": [
    "Evaluating MSE from the model"
   ]
  },
  {
   "cell_type": "code",
   "execution_count": 74,
   "id": "54ef8e02",
   "metadata": {},
   "outputs": [
    {
     "data": {
      "image/png": "[encoded data removed]",
      "text/plain": [
       "<Figure size 432x288 with 1 Axes>"
      ]
     },
     "metadata": {
      "needs_background": "light"
     },
     "output_type": "display_data"
    }
   ],
   "source": [
    "plt.plot(history.history['mse'], label='mse')\n",
    "plt.plot(history.history['val_mse'], label='val_mse')\n",
    "plt.ylim([0, 50])\n",
    "plt.xlabel('Epoch')\n",
    "plt.ylabel('MSE [Lama hari sembuh]')\n",
    "plt.legend()\n",
    "plt.grid(True)"
   ]
  },
  {
   "cell_type": "markdown",
   "id": "67c00534",
   "metadata": {},
   "source": [
    "Model evaluation for data testing"
   ]
  },
  {
   "cell_type": "code",
   "execution_count": 75,
   "id": "b4c57d19",
   "metadata": {},
   "outputs": [
    {
     "name": "stdout",
     "output_type": "stream",
     "text": [
      "1/1 [==============================] - 0s 35ms/step - loss: 4.8685 - mse: 38.2931\n"
     ]
    },
    {
     "data": {
      "text/plain": [
       "[4.868464469909668, 38.2930908203125]"
      ]
     },
     "execution_count": 75,
     "metadata": {},
     "output_type": "execute_result"
    }
   ],
   "source": [
    "model.evaluate(y_test, test_labels)"
   ]
  },
  {
   "cell_type": "markdown",
   "id": "71294bd8",
   "metadata": {},
   "source": [
    "### Make predictions"
   ]
  },
  {
   "cell_type": "markdown",
   "id": "b65e731a",
   "metadata": {},
   "source": [
    "Make predictions with the model on the test dataset using Keras Model.predict and review the loss"
   ]
  },
  {
   "cell_type": "code",
   "execution_count": 76,
   "id": "6f4f2e7a",
   "metadata": {},
   "outputs": [
    {
     "name": "stdout",
     "output_type": "stream",
     "text": [
      "WARNING:tensorflow:5 out of the last 5 calls to <function Model.make_predict_function.<locals>.predict_function at 0x000001C82B73C0D0> triggered tf.function retracing. Tracing is expensive and the excessive number of tracings could be due to (1) creating @tf.function repeatedly in a loop, (2) passing tensors with different shapes, (3) passing Python objects instead of tensors. For (1), please define your @tf.function outside of the loop. For (2), @tf.function has reduce_retracing=True option that can avoid unnecessary retracing. For (3), please refer to https://www.tensorflow.org/guide/function#controlling_retracing and https://www.tensorflow.org/api_docs/python/tf/function for  more details.\n",
      "1/1 [==============================] - 0s 101ms/step\n"
     ]
    },
    {
     "data": {
      "image/png": "[encoded data removed]",
      "text/plain": [
       "<Figure size 432x288 with 1 Axes>"
      ]
     },
     "metadata": {
      "needs_background": "light"
     },
     "output_type": "display_data"
    }
   ],
   "source": [
    "test_predictions = model.predict(y_test).flatten()\n",
    "\n",
    "a = plt.axes(aspect='equal')\n",
    "plt.scatter(test_labels, test_predictions)\n",
    "plt.xlabel('True Values [Lama hari sembuh]')\n",
    "plt.ylabel('Predictions [Lama hari sembuh]')\n",
    "lims = [0, 30]\n",
    "plt.xlim(lims)\n",
    "plt.ylim(lims)\n",
    "_ = plt.plot(lims, lims)"
   ]
  },
  {
   "cell_type": "markdown",
   "id": "557895fe",
   "metadata": {},
   "source": [
    "Check the error distribution"
   ]
  },
  {
   "cell_type": "code",
   "execution_count": 77,
   "id": "0d8ee675",
   "metadata": {},
   "outputs": [
    {
     "data": {
      "image/png": "[encoded data removed]",
      "text/plain": [
       "<Figure size 432x288 with 1 Axes>"
      ]
     },
     "metadata": {
      "needs_background": "light"
     },
     "output_type": "display_data"
    }
   ],
   "source": [
    "error = test_predictions - test_labels\n",
    "plt.hist(error, bins = 25)\n",
    "plt.xlabel('Prediction Error [Lama hari sembuh]')\n",
    "_ = plt.ylabel('Count')"
   ]
  },
  {
   "cell_type": "markdown",
   "id": "d4a7999c",
   "metadata": {},
   "source": [
    "Prediction with manual input"
   ]
  },
  {
   "cell_type": "code",
   "execution_count": 80,
   "id": "afc9964d",
   "metadata": {},
   "outputs": [
    {
     "name": "stdout",
     "output_type": "stream",
     "text": [
      "1/1 [==============================] - 0s 49ms/step\n",
      "Lama hari sembuh:  [[8.654]]\n",
      "Lama hari sembuh:  [[9.]]\n",
      "Lama hari sembuh:  8\n"
     ]
    }
   ],
   "source": [
    "Lama_hari_sembuh = model.predict([20, 1, 1, 1, 1, 1, 1, 1, 1])\n",
    "print (\"Lama hari sembuh: \",Lama_hari_sembuh)\n",
    "print (\"Lama hari sembuh: \",np.round(Lama_hari_sembuh))\n",
    "print (\"Lama hari sembuh: \",int(Lama_hari_sembuh))"
   ]
  },
  {
   "cell_type": "markdown",
   "id": "d420dabd",
   "metadata": {},
   "source": [
    "### Save the model"
   ]
  },
  {
   "cell_type": "code",
   "execution_count": 81,
   "id": "d995a41c",
   "metadata": {},
   "outputs": [
    {
     "name": "stdout",
     "output_type": "stream",
     "text": [
      "INFO:tensorflow:Assets written to: dnn6_model\\assets\n"
     ]
    }
   ],
   "source": [
    "#model.save('dnn6_model')"
   ]
  }
 ],
 "metadata": {
  "interpreter": {
   "hash": "152498b2d9bce54ae2199541d4ae55884c181b709c893d336525a129838ee740"
  },
  "kernelspec": {
   "display_name": "Python 3.8.8 ('base')",
   "language": "python",
   "name": "python3"
  },
  "language_info": {
   "codemirror_mode": {
    "name": "ipython",
    "version": 3
   },
   "file_extension": ".py",
   "mimetype": "text/x-python",
   "name": "python",
   "nbconvert_exporter": "python",
   "pygments_lexer": "ipython3",
   "version": "3.8.8"
  }
 },
 "nbformat": 4,
 "nbformat_minor": 5
}
