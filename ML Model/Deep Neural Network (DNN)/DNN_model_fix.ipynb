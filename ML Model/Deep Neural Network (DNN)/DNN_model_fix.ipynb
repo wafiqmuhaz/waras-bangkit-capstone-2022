{
 "cells": [
  {
   "cell_type": "markdown",
   "id": "c3f7930a",
   "metadata": {},
   "source": [
    "# WARAS APP - BANGKIT ACADEMY 2022"
   ]
  },
  {
   "cell_type": "markdown",
   "id": "0a32da0a",
   "metadata": {},
   "source": [
    "## Machine Learning Model - Deep Neural Network"
   ]
  },
  {
   "cell_type": "markdown",
   "id": "95c1675e",
   "metadata": {},
   "source": [
    "### Import libraries"
   ]
  },
  {
   "cell_type": "code",
   "execution_count": 94,
   "id": "f25a4317",
   "metadata": {},
   "outputs": [],
   "source": [
    "import tensorflow as tf\n",
    "import matplotlib.pyplot as plt\n",
    "import numpy as np\n",
    "import pandas as pd\n",
    "import seaborn as sns\n",
    "\n",
    "from tensorflow import keras\n",
    "from tensorflow.keras import layers"
   ]
  },
  {
   "cell_type": "markdown",
   "id": "589900ec",
   "metadata": {},
   "source": [
    "Make NumPy printouts easier to read"
   ]
  },
  {
   "cell_type": "code",
   "execution_count": 95,
   "id": "cdb1e2d2",
   "metadata": {},
   "outputs": [],
   "source": [
    "np.set_printoptions(precision = 3, suppress = True)"
   ]
  },
  {
   "cell_type": "markdown",
   "id": "13b9805b",
   "metadata": {},
   "source": [
    "### Import dataset"
   ]
  },
  {
   "cell_type": "code",
   "execution_count": 96,
   "id": "42fb1b0b",
   "metadata": {},
   "outputs": [],
   "source": [
    "dataset = pd.read_csv ('Data_Clean_3.csv')"
   ]
  },
  {
   "cell_type": "markdown",
   "id": "1ece3690",
   "metadata": {},
   "source": [
    "### Split dataset into training and testing"
   ]
  },
  {
   "cell_type": "code",
   "execution_count": 97,
   "id": "6321697f",
   "metadata": {},
   "outputs": [],
   "source": [
    "x_train = dataset.sample(frac = 0.8, random_state = 0)\n",
    "x_test = dataset.drop(x_train.index)"
   ]
  },
  {
   "cell_type": "markdown",
   "id": "5485e405",
   "metadata": {},
   "source": [
    "Split features from labels"
   ]
  },
  {
   "cell_type": "code",
   "execution_count": 98,
   "id": "5debcfd4",
   "metadata": {},
   "outputs": [],
   "source": [
    "y_train = x_train.copy()\n",
    "y_test = x_test.copy()\n",
    "\n",
    "train_labels = y_train.pop('Lama_hari_sembuh')\n",
    "test_labels = y_test.pop('Lama_hari_sembuh')"
   ]
  },
  {
   "cell_type": "markdown",
   "id": "8feb97bf",
   "metadata": {},
   "source": [
    "### Normalization"
   ]
  },
  {
   "cell_type": "markdown",
   "id": "95d40979",
   "metadata": {},
   "source": [
    "Create the layer"
   ]
  },
  {
   "cell_type": "code",
   "execution_count": 99,
   "id": "9b05dc6a",
   "metadata": {},
   "outputs": [],
   "source": [
    "normalizer = tf.keras.layers.Normalization(axis = -1, input_shape = [9])"
   ]
  },
  {
   "cell_type": "markdown",
   "id": "7459bf45",
   "metadata": {},
   "source": [
    "Fit the state of the preprocessing layer to the data"
   ]
  },
  {
   "cell_type": "code",
   "execution_count": 100,
   "id": "214698d5",
   "metadata": {},
   "outputs": [
    {
     "name": "stdout",
     "output_type": "stream",
     "text": [
      "WARNING:tensorflow:6 out of the last 11 calls to <function PreprocessingLayer.make_adapt_function.<locals>.adapt_step at 0x000001CFA62EEC10> triggered tf.function retracing. Tracing is expensive and the excessive number of tracings could be due to (1) creating @tf.function repeatedly in a loop, (2) passing tensors with different shapes, (3) passing Python objects instead of tensors. For (1), please define your @tf.function outside of the loop. For (2), @tf.function has reduce_retracing=True option that can avoid unnecessary retracing. For (3), please refer to https://www.tensorflow.org/guide/function#controlling_retracing and https://www.tensorflow.org/api_docs/python/tf/function for  more details.\n"
     ]
    }
   ],
   "source": [
    "normalizer.adapt(np.asarray(y_train))"
   ]
  },
  {
   "cell_type": "markdown",
   "id": "f37eeb18",
   "metadata": {},
   "source": [
    "Calculate the mean and variance, and store them in the layer"
   ]
  },
  {
   "cell_type": "code",
   "execution_count": 101,
   "id": "78d91e92",
   "metadata": {},
   "outputs": [
    {
     "name": "stdout",
     "output_type": "stream",
     "text": [
      "[[34.75   0.547  0.734  0.562  0.469  0.422  0.375  0.172  0.078]]\n"
     ]
    }
   ],
   "source": [
    "print(normalizer.mean.numpy())"
   ]
  },
  {
   "cell_type": "markdown",
   "id": "a55f5bc5",
   "metadata": {},
   "source": [
    "When the layer is called, it returns the input data, with each feature independently normalized"
   ]
  },
  {
   "cell_type": "code",
   "execution_count": 102,
   "id": "f9aa4bec",
   "metadata": {},
   "outputs": [
    {
     "name": "stdout",
     "output_type": "stream",
     "text": [
      "First example: [[20  0  1  1  1  1  0  0  0]]\n",
      "Normalized: [[-0.93 -1.1   0.6   0.88  1.06  1.17 -0.77 -0.46 -0.29]]\n"
     ]
    }
   ],
   "source": [
    "first = np.array(y_train[:1])\n",
    "\n",
    "with np.printoptions(precision = 2, suppress = True):\n",
    "  print('First example:', first)\n",
    "  print('Normalized:', normalizer(first).numpy())"
   ]
  },
  {
   "cell_type": "markdown",
   "id": "293e4ca0",
   "metadata": {},
   "source": [
    "- The normalization layer (normalizer).\n",
    "- Two hidden, non-linear, Dense layers with the ReLU (relu) activation function nonlinearity.\n",
    "- A linear Dense single-output layer."
   ]
  },
  {
   "cell_type": "code",
   "execution_count": 103,
   "id": "3c59c850",
   "metadata": {},
   "outputs": [],
   "source": [
    "model = keras.Sequential([\n",
    "    normalizer,\n",
    "    layers.Dense(64, activation='relu'),\n",
    "    layers.Dense(64, activation='relu'),\n",
    "    layers.Dense(1)\n",
    "])\n",
    "\n",
    "model.compile(loss = 'mean_absolute_error', metrics = ['mse'],\n",
    "              optimizer=tf.keras.optimizers.Adam(0.001))"
   ]
  },
  {
   "cell_type": "markdown",
   "id": "72cdc891",
   "metadata": {},
   "source": [
    "### Train the model with Keras Model.fit"
   ]
  },
  {
   "cell_type": "code",
   "execution_count": 104,
   "id": "f8167d3a",
   "metadata": {},
   "outputs": [
    {
     "name": "stdout",
     "output_type": "stream",
     "text": [
      "Epoch 1/100\n",
      "2/2 [==============================] - 1s 217ms/step - loss: 12.2467 - mse: 189.1013 - val_loss: 9.2926 - val_mse: 106.2038\n",
      "Epoch 2/100\n",
      "2/2 [==============================] - 0s 40ms/step - loss: 12.0720 - mse: 184.8913 - val_loss: 9.1440 - val_mse: 103.0300\n",
      "Epoch 3/100\n",
      "2/2 [==============================] - 0s 41ms/step - loss: 11.9039 - mse: 180.3322 - val_loss: 8.9951 - val_mse: 99.9366\n",
      "Epoch 4/100\n",
      "2/2 [==============================] - 0s 40ms/step - loss: 11.7356 - mse: 176.1559 - val_loss: 8.8435 - val_mse: 96.8945\n",
      "Epoch 5/100\n",
      "2/2 [==============================] - 0s 40ms/step - loss: 11.5622 - mse: 171.7302 - val_loss: 8.6902 - val_mse: 93.8862\n",
      "Epoch 6/100\n",
      "2/2 [==============================] - 0s 41ms/step - loss: 11.3901 - mse: 167.5655 - val_loss: 8.5323 - val_mse: 90.8854\n",
      "Epoch 7/100\n",
      "2/2 [==============================] - 0s 43ms/step - loss: 11.2048 - mse: 163.1880 - val_loss: 8.3699 - val_mse: 87.8455\n",
      "Epoch 8/100\n",
      "2/2 [==============================] - 0s 40ms/step - loss: 11.0187 - mse: 158.7548 - val_loss: 8.2037 - val_mse: 84.7860\n",
      "Epoch 9/100\n",
      "2/2 [==============================] - 0s 39ms/step - loss: 10.8227 - mse: 154.0004 - val_loss: 8.0310 - val_mse: 81.6656\n",
      "Epoch 10/100\n",
      "2/2 [==============================] - 0s 44ms/step - loss: 10.6280 - mse: 149.5656 - val_loss: 7.8488 - val_mse: 78.4662\n",
      "Epoch 11/100\n",
      "2/2 [==============================] - 0s 45ms/step - loss: 10.4266 - mse: 144.8740 - val_loss: 7.6585 - val_mse: 75.2188\n",
      "Epoch 12/100\n",
      "2/2 [==============================] - 0s 44ms/step - loss: 10.2153 - mse: 140.1017 - val_loss: 7.4612 - val_mse: 71.9373\n",
      "Epoch 13/100\n",
      "2/2 [==============================] - 0s 44ms/step - loss: 10.0002 - mse: 135.2177 - val_loss: 7.2558 - val_mse: 68.6215\n",
      "Epoch 14/100\n",
      "2/2 [==============================] - 0s 46ms/step - loss: 9.7787 - mse: 130.5243 - val_loss: 7.0391 - val_mse: 65.2526\n",
      "Epoch 15/100\n",
      "2/2 [==============================] - 0s 37ms/step - loss: 9.5402 - mse: 125.2204 - val_loss: 6.8092 - val_mse: 61.8234\n",
      "Epoch 16/100\n",
      "2/2 [==============================] - 0s 46ms/step - loss: 9.2825 - mse: 119.9528 - val_loss: 6.5669 - val_mse: 58.3771\n",
      "Epoch 17/100\n",
      "2/2 [==============================] - 0s 46ms/step - loss: 9.0140 - mse: 114.4339 - val_loss: 6.3579 - val_mse: 54.8985\n",
      "Epoch 18/100\n",
      "2/2 [==============================] - 0s 49ms/step - loss: 8.7363 - mse: 109.0615 - val_loss: 6.1400 - val_mse: 51.4314\n",
      "Epoch 19/100\n",
      "2/2 [==============================] - 0s 65ms/step - loss: 8.4421 - mse: 103.4590 - val_loss: 5.9073 - val_mse: 47.9360\n",
      "Epoch 20/100\n",
      "2/2 [==============================] - 0s 45ms/step - loss: 8.1800 - mse: 97.8740 - val_loss: 5.6625 - val_mse: 44.4852\n",
      "Epoch 21/100\n",
      "2/2 [==============================] - 0s 37ms/step - loss: 7.8914 - mse: 92.0033 - val_loss: 5.4065 - val_mse: 41.1357\n",
      "Epoch 22/100\n",
      "2/2 [==============================] - 0s 40ms/step - loss: 7.5889 - mse: 86.6382 - val_loss: 5.1380 - val_mse: 37.8986\n",
      "Epoch 23/100\n",
      "2/2 [==============================] - 0s 44ms/step - loss: 7.2764 - mse: 80.8235 - val_loss: 4.8557 - val_mse: 34.8221\n",
      "Epoch 24/100\n",
      "2/2 [==============================] - 0s 40ms/step - loss: 6.9687 - mse: 75.1907 - val_loss: 4.5580 - val_mse: 31.8862\n",
      "Epoch 25/100\n",
      "2/2 [==============================] - 0s 39ms/step - loss: 6.6502 - mse: 69.6237 - val_loss: 4.2876 - val_mse: 29.1840\n",
      "Epoch 26/100\n",
      "2/2 [==============================] - 0s 42ms/step - loss: 6.3538 - mse: 64.6344 - val_loss: 4.0328 - val_mse: 26.6859\n",
      "Epoch 27/100\n",
      "2/2 [==============================] - 0s 40ms/step - loss: 6.0616 - mse: 59.5262 - val_loss: 3.8166 - val_mse: 24.4574\n",
      "Epoch 28/100\n",
      "2/2 [==============================] - 0s 40ms/step - loss: 5.7804 - mse: 54.9400 - val_loss: 3.6461 - val_mse: 22.5839\n",
      "Epoch 29/100\n",
      "2/2 [==============================] - 0s 42ms/step - loss: 5.4772 - mse: 50.2080 - val_loss: 3.6431 - val_mse: 21.1127\n",
      "Epoch 30/100\n",
      "2/2 [==============================] - 0s 41ms/step - loss: 5.2529 - mse: 46.1048 - val_loss: 3.6569 - val_mse: 20.0577\n",
      "Epoch 31/100\n",
      "2/2 [==============================] - 0s 39ms/step - loss: 5.0286 - mse: 42.6859 - val_loss: 3.6664 - val_mse: 19.3858\n",
      "Epoch 32/100\n",
      "2/2 [==============================] - 0s 38ms/step - loss: 4.8561 - mse: 39.4923 - val_loss: 3.6732 - val_mse: 19.0775\n",
      "Epoch 33/100\n",
      "2/2 [==============================] - 0s 39ms/step - loss: 4.6676 - mse: 37.0386 - val_loss: 3.6790 - val_mse: 19.0875\n",
      "Epoch 34/100\n",
      "2/2 [==============================] - 0s 38ms/step - loss: 4.4906 - mse: 34.5118 - val_loss: 3.6834 - val_mse: 19.4034\n",
      "Epoch 35/100\n",
      "2/2 [==============================] - 0s 35ms/step - loss: 4.3519 - mse: 32.8505 - val_loss: 3.6749 - val_mse: 19.9041\n",
      "Epoch 36/100\n",
      "2/2 [==============================] - 0s 40ms/step - loss: 4.2480 - mse: 31.7038 - val_loss: 3.7025 - val_mse: 20.4227\n",
      "Epoch 37/100\n",
      "2/2 [==============================] - 0s 47ms/step - loss: 4.2118 - mse: 30.7657 - val_loss: 3.7376 - val_mse: 20.8297\n",
      "Epoch 38/100\n",
      "2/2 [==============================] - 0s 55ms/step - loss: 4.1516 - mse: 29.7967 - val_loss: 3.7411 - val_mse: 20.9579\n",
      "Epoch 39/100\n",
      "2/2 [==============================] - 0s 38ms/step - loss: 4.1128 - mse: 29.1368 - val_loss: 3.7315 - val_mse: 20.9595\n",
      "Epoch 40/100\n",
      "2/2 [==============================] - 0s 50ms/step - loss: 4.0550 - mse: 28.4180 - val_loss: 3.6999 - val_mse: 20.7343\n",
      "Epoch 41/100\n",
      "2/2 [==============================] - 0s 35ms/step - loss: 3.9945 - mse: 27.7450 - val_loss: 3.6888 - val_mse: 20.3570\n",
      "Epoch 42/100\n",
      "2/2 [==============================] - 0s 35ms/step - loss: 3.9181 - mse: 27.1262 - val_loss: 3.6672 - val_mse: 19.8058\n",
      "Epoch 43/100\n",
      "2/2 [==============================] - 0s 38ms/step - loss: 3.8578 - mse: 26.4471 - val_loss: 3.5960 - val_mse: 19.0153\n",
      "Epoch 44/100\n",
      "2/2 [==============================] - 0s 37ms/step - loss: 3.8015 - mse: 25.8635 - val_loss: 3.5178 - val_mse: 18.2248\n",
      "Epoch 45/100\n",
      "2/2 [==============================] - 0s 35ms/step - loss: 3.7561 - mse: 25.3669 - val_loss: 3.4624 - val_mse: 17.5706\n",
      "Epoch 46/100\n",
      "2/2 [==============================] - 0s 36ms/step - loss: 3.7263 - mse: 24.8728 - val_loss: 3.4165 - val_mse: 17.0577\n",
      "Epoch 47/100\n",
      "2/2 [==============================] - 0s 38ms/step - loss: 3.6995 - mse: 24.4245 - val_loss: 3.3961 - val_mse: 16.7710\n",
      "Epoch 48/100\n",
      "2/2 [==============================] - 0s 45ms/step - loss: 3.6611 - mse: 23.9291 - val_loss: 3.3903 - val_mse: 16.6215\n",
      "Epoch 49/100\n",
      "2/2 [==============================] - 0s 37ms/step - loss: 3.6137 - mse: 23.5713 - val_loss: 3.4074 - val_mse: 16.6818\n",
      "Epoch 50/100\n",
      "2/2 [==============================] - 0s 38ms/step - loss: 3.5580 - mse: 23.1182 - val_loss: 3.4232 - val_mse: 16.7660\n",
      "Epoch 51/100\n",
      "2/2 [==============================] - 0s 36ms/step - loss: 3.5408 - mse: 22.7964 - val_loss: 3.4443 - val_mse: 16.8919\n",
      "Epoch 52/100\n",
      "2/2 [==============================] - 0s 92ms/step - loss: 3.4945 - mse: 22.4253 - val_loss: 3.4461 - val_mse: 16.8742\n",
      "Epoch 53/100\n",
      "2/2 [==============================] - 0s 61ms/step - loss: 3.4644 - mse: 22.0896 - val_loss: 3.4382 - val_mse: 16.7811\n",
      "Epoch 54/100\n",
      "2/2 [==============================] - 0s 67ms/step - loss: 3.4286 - mse: 21.7959 - val_loss: 3.4203 - val_mse: 16.5989\n",
      "Epoch 55/100\n",
      "2/2 [==============================] - 0s 35ms/step - loss: 3.3949 - mse: 21.4614 - val_loss: 3.3932 - val_mse: 16.3438\n",
      "Epoch 56/100\n",
      "2/2 [==============================] - 0s 37ms/step - loss: 3.3536 - mse: 21.1894 - val_loss: 3.3659 - val_mse: 16.0844\n",
      "Epoch 57/100\n",
      "2/2 [==============================] - 0s 35ms/step - loss: 3.3160 - mse: 20.9268 - val_loss: 3.3376 - val_mse: 15.8194\n",
      "Epoch 58/100\n",
      "2/2 [==============================] - 0s 40ms/step - loss: 3.2801 - mse: 20.6941 - val_loss: 3.3044 - val_mse: 15.5184\n",
      "Epoch 59/100\n",
      "2/2 [==============================] - 0s 36ms/step - loss: 3.2385 - mse: 20.3826 - val_loss: 3.2743 - val_mse: 15.2619\n",
      "Epoch 60/100\n",
      "2/2 [==============================] - 0s 39ms/step - loss: 3.2054 - mse: 20.1732 - val_loss: 3.2596 - val_mse: 15.1374\n",
      "Epoch 61/100\n",
      "2/2 [==============================] - 0s 41ms/step - loss: 3.1735 - mse: 19.9507 - val_loss: 3.2548 - val_mse: 15.1016\n",
      "Epoch 62/100\n",
      "2/2 [==============================] - 0s 63ms/step - loss: 3.1396 - mse: 19.7029 - val_loss: 3.2371 - val_mse: 14.9889\n",
      "Epoch 63/100\n",
      "2/2 [==============================] - 0s 60ms/step - loss: 3.1127 - mse: 19.4447 - val_loss: 3.2158 - val_mse: 14.8541\n",
      "Epoch 64/100\n",
      "2/2 [==============================] - 0s 52ms/step - loss: 3.0877 - mse: 19.2634 - val_loss: 3.1818 - val_mse: 14.6475\n",
      "Epoch 65/100\n",
      "2/2 [==============================] - 0s 45ms/step - loss: 3.0510 - mse: 19.0468 - val_loss: 3.1490 - val_mse: 14.4655\n",
      "Epoch 66/100\n",
      "2/2 [==============================] - 0s 42ms/step - loss: 3.0323 - mse: 18.9494 - val_loss: 3.1276 - val_mse: 14.2793\n",
      "Epoch 67/100\n",
      "2/2 [==============================] - 0s 132ms/step - loss: 3.0118 - mse: 18.7524 - val_loss: 3.1264 - val_mse: 14.2769\n",
      "Epoch 68/100\n",
      "2/2 [==============================] - 0s 45ms/step - loss: 2.9899 - mse: 18.5864 - val_loss: 3.1377 - val_mse: 14.4143\n",
      "Epoch 69/100\n",
      "2/2 [==============================] - 0s 38ms/step - loss: 2.9736 - mse: 18.3828 - val_loss: 3.1394 - val_mse: 14.4791\n",
      "Epoch 70/100\n",
      "2/2 [==============================] - 0s 70ms/step - loss: 2.9583 - mse: 18.1824 - val_loss: 3.1295 - val_mse: 14.4586\n",
      "Epoch 71/100\n",
      "2/2 [==============================] - 0s 78ms/step - loss: 2.9332 - mse: 18.0157 - val_loss: 3.1172 - val_mse: 14.4104\n",
      "Epoch 72/100\n",
      "2/2 [==============================] - 0s 124ms/step - loss: 2.9142 - mse: 17.7953 - val_loss: 3.1152 - val_mse: 14.4339\n",
      "Epoch 73/100\n",
      "2/2 [==============================] - 0s 52ms/step - loss: 2.9016 - mse: 17.6536 - val_loss: 3.1222 - val_mse: 14.5261\n",
      "Epoch 74/100\n",
      "2/2 [==============================] - 0s 49ms/step - loss: 2.8836 - mse: 17.4790 - val_loss: 3.1281 - val_mse: 14.6494\n",
      "Epoch 75/100\n",
      "2/2 [==============================] - 0s 53ms/step - loss: 2.8688 - mse: 17.3183 - val_loss: 3.1197 - val_mse: 14.6467\n",
      "Epoch 76/100\n",
      "2/2 [==============================] - 0s 48ms/step - loss: 2.8474 - mse: 17.1881 - val_loss: 3.1111 - val_mse: 14.6417\n",
      "Epoch 77/100\n",
      "2/2 [==============================] - 0s 48ms/step - loss: 2.8264 - mse: 17.0094 - val_loss: 3.1060 - val_mse: 14.6566\n",
      "Epoch 78/100\n",
      "2/2 [==============================] - 0s 40ms/step - loss: 2.8151 - mse: 16.9247 - val_loss: 3.1040 - val_mse: 14.6895\n",
      "Epoch 79/100\n",
      "2/2 [==============================] - 0s 47ms/step - loss: 2.7988 - mse: 16.7607 - val_loss: 3.1118 - val_mse: 14.7832\n",
      "Epoch 80/100\n",
      "2/2 [==============================] - 0s 40ms/step - loss: 2.7794 - mse: 16.5620 - val_loss: 3.1193 - val_mse: 14.7890\n",
      "Epoch 81/100\n",
      "2/2 [==============================] - 0s 62ms/step - loss: 2.7687 - mse: 16.4073 - val_loss: 3.1432 - val_mse: 14.8706\n",
      "Epoch 82/100\n",
      "2/2 [==============================] - 0s 42ms/step - loss: 2.7560 - mse: 16.2233 - val_loss: 3.1287 - val_mse: 14.8440\n",
      "Epoch 83/100\n",
      "2/2 [==============================] - 0s 40ms/step - loss: 2.7457 - mse: 16.1535 - val_loss: 3.1124 - val_mse: 14.9116\n",
      "Epoch 84/100\n",
      "2/2 [==============================] - 0s 48ms/step - loss: 2.7128 - mse: 15.9277 - val_loss: 3.1118 - val_mse: 15.0054\n",
      "Epoch 85/100\n",
      "2/2 [==============================] - 0s 52ms/step - loss: 2.7027 - mse: 15.8518 - val_loss: 3.1143 - val_mse: 15.1186\n",
      "Epoch 86/100\n",
      "2/2 [==============================] - 0s 54ms/step - loss: 2.6905 - mse: 15.7086 - val_loss: 3.1217 - val_mse: 15.2076\n",
      "Epoch 87/100\n",
      "2/2 [==============================] - 0s 63ms/step - loss: 2.6768 - mse: 15.5299 - val_loss: 3.1229 - val_mse: 15.2269\n",
      "Epoch 88/100\n",
      "2/2 [==============================] - 0s 137ms/step - loss: 2.6596 - mse: 15.3829 - val_loss: 3.1171 - val_mse: 15.1599\n",
      "Epoch 89/100\n",
      "2/2 [==============================] - 0s 49ms/step - loss: 2.6440 - mse: 15.2802 - val_loss: 3.1136 - val_mse: 15.1454\n",
      "Epoch 90/100\n",
      "2/2 [==============================] - 0s 54ms/step - loss: 2.6292 - mse: 15.1505 - val_loss: 3.1438 - val_mse: 15.3322\n",
      "Epoch 91/100\n",
      "2/2 [==============================] - 0s 59ms/step - loss: 2.6084 - mse: 14.9863 - val_loss: 3.1791 - val_mse: 15.5223\n",
      "Epoch 92/100\n",
      "2/2 [==============================] - 0s 196ms/step - loss: 2.5947 - mse: 14.9001 - val_loss: 3.2028 - val_mse: 15.6543\n",
      "Epoch 93/100\n",
      "2/2 [==============================] - 0s 66ms/step - loss: 2.5814 - mse: 14.7498 - val_loss: 3.1999 - val_mse: 15.6575\n",
      "Epoch 94/100\n",
      "2/2 [==============================] - 0s 71ms/step - loss: 2.5628 - mse: 14.6418 - val_loss: 3.1721 - val_mse: 15.5762\n",
      "Epoch 95/100\n",
      "2/2 [==============================] - 0s 43ms/step - loss: 2.5616 - mse: 14.6263 - val_loss: 3.1640 - val_mse: 15.5409\n",
      "Epoch 96/100\n",
      "2/2 [==============================] - 0s 48ms/step - loss: 2.5404 - mse: 14.4762 - val_loss: 3.1700 - val_mse: 15.6415\n",
      "Epoch 97/100\n",
      "2/2 [==============================] - 0s 41ms/step - loss: 2.5277 - mse: 14.3171 - val_loss: 3.1776 - val_mse: 15.7612\n",
      "Epoch 98/100\n",
      "2/2 [==============================] - 0s 46ms/step - loss: 2.5144 - mse: 14.1985 - val_loss: 3.1763 - val_mse: 15.7892\n",
      "Epoch 99/100\n",
      "2/2 [==============================] - 0s 41ms/step - loss: 2.5001 - mse: 14.1177 - val_loss: 3.1725 - val_mse: 15.8003\n",
      "Epoch 100/100\n",
      "2/2 [==============================] - 0s 43ms/step - loss: 2.4884 - mse: 14.0142 - val_loss: 3.1721 - val_mse: 15.8333\n"
     ]
    }
   ],
   "source": [
    "history = model.fit(\n",
    "    y_train,\n",
    "    train_labels,\n",
    "    validation_split = 0.2,\n",
    "    epochs = 100)"
   ]
  },
  {
   "cell_type": "markdown",
   "id": "20fb485d",
   "metadata": {},
   "source": [
    "Review the architecture of the network"
   ]
  },
  {
   "cell_type": "code",
   "execution_count": 105,
   "id": "5b6f8df0",
   "metadata": {},
   "outputs": [
    {
     "name": "stdout",
     "output_type": "stream",
     "text": [
      "Model: \"sequential_5\"\n",
      "_________________________________________________________________\n",
      " Layer (type)                Output Shape              Param #   \n",
      "=================================================================\n",
      " normalization_5 (Normalizat  (None, 9)                19        \n",
      " ion)                                                            \n",
      "                                                                 \n",
      " dense_15 (Dense)            (None, 64)                640       \n",
      "                                                                 \n",
      " dense_16 (Dense)            (None, 64)                4160      \n",
      "                                                                 \n",
      " dense_17 (Dense)            (None, 1)                 65        \n",
      "                                                                 \n",
      "=================================================================\n",
      "Total params: 4,884\n",
      "Trainable params: 4,865\n",
      "Non-trainable params: 19\n",
      "_________________________________________________________________\n"
     ]
    }
   ],
   "source": [
    "model.summary()"
   ]
  },
  {
   "cell_type": "markdown",
   "id": "7e80bd43",
   "metadata": {},
   "source": [
    "### Model Evaluation"
   ]
  },
  {
   "cell_type": "markdown",
   "id": "6d5c0b07",
   "metadata": {},
   "source": [
    "Evaluating MAE from the model"
   ]
  },
  {
   "cell_type": "code",
   "execution_count": 106,
   "id": "18da139f",
   "metadata": {},
   "outputs": [
    {
     "data": {
      "image/png": "[encoded data removed]",
      "text/plain": [
       "<Figure size 432x288 with 1 Axes>"
      ]
     },
     "metadata": {
      "needs_background": "light"
     },
     "output_type": "display_data"
    }
   ],
   "source": [
    "plt.plot(history.history['loss'], label='loss')\n",
    "plt.plot(history.history['val_loss'], label='val_loss')\n",
    "plt.ylim([0, 10])\n",
    "plt.xlabel('Epoch')\n",
    "plt.ylabel('MAE [Lama hari sembuh]')\n",
    "plt.legend()\n",
    "plt.grid(True)"
   ]
  },
  {
   "cell_type": "markdown",
   "id": "869b549a",
   "metadata": {},
   "source": [
    "Evaluating MSE from the model"
   ]
  },
  {
   "cell_type": "code",
   "execution_count": 107,
   "id": "54ef8e02",
   "metadata": {},
   "outputs": [
    {
     "data": {
      "image/png": "[encoded data removed]",
      "text/plain": [
       "<Figure size 432x288 with 1 Axes>"
      ]
     },
     "metadata": {
      "needs_background": "light"
     },
     "output_type": "display_data"
    }
   ],
   "source": [
    "plt.plot(history.history['mse'], label='mse')\n",
    "plt.plot(history.history['val_mse'], label='val_mse')\n",
    "plt.ylim([0, 50])\n",
    "plt.xlabel('Epoch')\n",
    "plt.ylabel('MSE [Lama hari sembuh]')\n",
    "plt.legend()\n",
    "plt.grid(True)"
   ]
  },
  {
   "cell_type": "markdown",
   "id": "67c00534",
   "metadata": {},
   "source": [
    "Model evaluation for data testing"
   ]
  },
  {
   "cell_type": "code",
   "execution_count": 108,
   "id": "b4c57d19",
   "metadata": {},
   "outputs": [
    {
     "name": "stdout",
     "output_type": "stream",
     "text": [
      "1/1 [==============================] - 0s 39ms/step - loss: 4.4852 - mse: 32.9928\n"
     ]
    },
    {
     "data": {
      "text/plain": [
       "[4.485204219818115, 32.99281692504883]"
      ]
     },
     "execution_count": 108,
     "metadata": {},
     "output_type": "execute_result"
    }
   ],
   "source": [
    "model.evaluate(y_test, test_labels)"
   ]
  },
  {
   "cell_type": "markdown",
   "id": "71294bd8",
   "metadata": {},
   "source": [
    "### Make predictions"
   ]
  },
  {
   "cell_type": "markdown",
   "id": "b65e731a",
   "metadata": {},
   "source": [
    "Make predictions with the model on the test dataset using Keras Model.predict and review the loss"
   ]
  },
  {
   "cell_type": "markdown",
   "id": "d4a7999c",
   "metadata": {},
   "source": [
    "Prediction with manual input"
   ]
  },
  {
   "cell_type": "code",
   "execution_count": 109,
   "id": "afc9964d",
   "metadata": {},
   "outputs": [
    {
     "name": "stdout",
     "output_type": "stream",
     "text": [
      "WARNING:tensorflow:Model was constructed with shape (None, 9) for input KerasTensor(type_spec=TensorSpec(shape=(None, 9), dtype=tf.float32, name='normalization_5_input'), name='normalization_5_input', description=\"created by layer 'normalization_5_input'\"), but it was called on an input with incompatible shape (None,).\n",
      "1/1 [==============================] - 0s 162ms/step\n",
      "Lama hari sembuh:  [[5.552]]\n",
      "Lama hari sembuh:  [[6.]]\n",
      "Lama hari sembuh:  5\n"
     ]
    }
   ],
   "source": [
    "Lama_hari_sembuh = model.predict([20, 0, 1, 0, 0, 1, 0, 1, 1])\n",
    "print (\"Lama hari sembuh: \",Lama_hari_sembuh)\n",
    "print (\"Lama hari sembuh: \",np.round(Lama_hari_sembuh))\n",
    "print (\"Lama hari sembuh: \",int(Lama_hari_sembuh))"
   ]
  },
  {
   "cell_type": "markdown",
   "id": "d420dabd",
   "metadata": {},
   "source": [
    "### Save the model"
   ]
  },
  {
   "cell_type": "code",
   "execution_count": 110,
   "id": "d995a41c",
   "metadata": {},
   "outputs": [],
   "source": [
    "#model.save('dnn6_model')"
   ]
  }
 ],
 "metadata": {
  "interpreter": {
   "hash": "152498b2d9bce54ae2199541d4ae55884c181b709c893d336525a129838ee740"
  },
  "kernelspec": {
   "display_name": "Python 3.8.8 ('base')",
   "language": "python",
   "name": "python3"
  },
  "language_info": {
   "codemirror_mode": {
    "name": "ipython",
    "version": 3
   },
   "file_extension": ".py",
   "mimetype": "text/x-python",
   "name": "python",
   "nbconvert_exporter": "python",
   "pygments_lexer": "ipython3",
   "version": "3.8.8"
  }
 },
 "nbformat": 4,
 "nbformat_minor": 5
}
